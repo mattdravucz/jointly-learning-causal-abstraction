{
 "cells": [
  {
   "cell_type": "code",
   "execution_count": 1,
   "id": "ae513b6c",
   "metadata": {},
   "outputs": [],
   "source": [
    "import numpy as np\n",
    "import torch\n",
    "from scipy.stats import wilcoxon\n",
    "\n",
    "from src.examples import smokingmodels as ex\n",
    "from src.SCMMappings_1_1 import Abstraction\n",
    "from src.nn import JointNeuralNet\n",
    "from src.nn_losses import JSD_loss,RowMax_penalty"
   ]
  },
  {
   "cell_type": "code",
   "execution_count": 2,
   "id": "0d5cc2f9",
   "metadata": {},
   "outputs": [],
   "source": [
    "endresults_app3_vstruct = np.load('./results/synthetic/a/avg-best-endresults-app3-vstruct.npy',allow_pickle=True)\n",
    "endresults_app3_vstruct_weighted = np.load('./results/synthetic/b/avg-best-endresults-app3-weighted-vstruct.npy',allow_pickle=True)"
   ]
  },
  {
   "cell_type": "code",
   "execution_count": 3,
   "id": "37c706a9",
   "metadata": {},
   "outputs": [],
   "source": [
    "S_C = [['Smoking_'], ['Cancer_']]\n",
    "C_F = [['Cancer_'], ['Fatigue_']]\n",
    "S_F = [['Smoking_'], ['Fatigue_']]\n",
    "\n",
    "A_vstruct = Abstraction(*ex.vstruct_lung_cancer())"
   ]
  },
  {
   "cell_type": "code",
   "execution_count": 4,
   "id": "047f2751",
   "metadata": {},
   "outputs": [],
   "source": [
    "sc_jsd = np.zeros((10))\n",
    "cf_jsd = np.zeros((10))\n",
    "sf_jsd = np.zeros((10))\n",
    "\n",
    "sc_jsd_w = np.zeros((10))\n",
    "cf_jsd_w = np.zeros((10))\n",
    "sf_jsd_w = np.zeros((10))"
   ]
  },
  {
   "cell_type": "code",
   "execution_count": 5,
   "id": "868bc0c8",
   "metadata": {},
   "outputs": [],
   "source": [
    "T = 0.1\n",
    "# Unweighted\n",
    "for i in range(10):\n",
    "    discretized_alphas = endresults_app3_vstruct[i]['discretized_alpha']\n",
    "    criterion_jsd = JSD_loss()\n",
    "    criterion_pen = RowMax_penalty()\n",
    "    end_model = JointNeuralNet(A_vstruct.M0,A_vstruct.M1,A_vstruct.R,A_vstruct.a,[S_C],T,initialised_alphas=discretized_alphas)\n",
    "    lowpaths, highpaths, Ws = end_model()    \n",
    "    end_loss_jsd = criterion_jsd(lowpaths, highpaths)\n",
    "    end_loss_pen = criterion_pen(Ws)\n",
    "    sc_jsd[i] = end_loss_jsd\n",
    "\n",
    "for i in range(10):\n",
    "    discretized_alphas = endresults_app3_vstruct[i]['discretized_alpha']\n",
    "    criterion_jsd = JSD_loss()\n",
    "    criterion_pen = RowMax_penalty()\n",
    "    end_model = JointNeuralNet(A_vstruct.M0,A_vstruct.M1,A_vstruct.R,A_vstruct.a,[C_F],T,initialised_alphas=discretized_alphas)\n",
    "    lowpaths, highpaths, Ws = end_model()    \n",
    "    end_loss_jsd = criterion_jsd(lowpaths, highpaths)\n",
    "    end_loss_pen = criterion_pen(Ws)\n",
    "    cf_jsd[i] = end_loss_jsd\n",
    "\n",
    "for i in range(10):\n",
    "    discretized_alphas = endresults_app3_vstruct[i]['discretized_alpha']\n",
    "    criterion_jsd = JSD_loss()\n",
    "    criterion_pen = RowMax_penalty()\n",
    "    end_model = JointNeuralNet(A_vstruct.M0,A_vstruct.M1,A_vstruct.R,A_vstruct.a,[S_F],T,initialised_alphas=discretized_alphas)\n",
    "    lowpaths, highpaths, Ws = end_model()    \n",
    "    end_loss_jsd = criterion_jsd(lowpaths, highpaths)\n",
    "    end_loss_pen = criterion_pen(Ws)\n",
    "    sf_jsd[i] = end_loss_jsd\n",
    "     \n",
    "# Weighted\n",
    "for i in range(10):\n",
    "    discretized_alphas = endresults_app3_vstruct_weighted[i]['discretized_alpha']\n",
    "    criterion_jsd = JSD_loss()\n",
    "    criterion_pen = RowMax_penalty()\n",
    "    end_model = JointNeuralNet(A_vstruct.M0,A_vstruct.M1,A_vstruct.R,A_vstruct.a,[S_C],T,initialised_alphas=discretized_alphas)\n",
    "    lowpaths, highpaths, Ws = end_model()    \n",
    "    end_loss_jsd = criterion_jsd(lowpaths, highpaths)\n",
    "    end_loss_pen = criterion_pen(Ws)\n",
    "    sc_jsd_w[i] = end_loss_jsd\n",
    "\n",
    "for i in range(10):\n",
    "    discretized_alphas = endresults_app3_vstruct_weighted[i]['discretized_alpha']\n",
    "    criterion_jsd = JSD_loss()\n",
    "    criterion_pen = RowMax_penalty()\n",
    "    end_model = JointNeuralNet(A_vstruct.M0,A_vstruct.M1,A_vstruct.R,A_vstruct.a,[C_F],T,initialised_alphas=discretized_alphas)\n",
    "    lowpaths, highpaths, Ws = end_model()    \n",
    "    end_loss_jsd = criterion_jsd(lowpaths, highpaths)\n",
    "    end_loss_pen = criterion_pen(Ws)\n",
    "    cf_jsd_w[i] = end_loss_jsd\n",
    "\n",
    "for i in range(10):\n",
    "    discretized_alphas = endresults_app3_vstruct_weighted[i]['discretized_alpha']\n",
    "    criterion_jsd = JSD_loss()\n",
    "    criterion_pen = RowMax_penalty()\n",
    "    end_model = JointNeuralNet(A_vstruct.M0,A_vstruct.M1,A_vstruct.R,A_vstruct.a,[S_F],T,initialised_alphas=discretized_alphas)\n",
    "    lowpaths, highpaths, Ws = end_model()    \n",
    "    end_loss_jsd = criterion_jsd(lowpaths, highpaths)\n",
    "    end_loss_pen = criterion_pen(Ws)\n",
    "    sf_jsd_w[i] = end_loss_jsd\n",
    "    "
   ]
  },
  {
   "cell_type": "code",
   "execution_count": 6,
   "id": "e936e201",
   "metadata": {},
   "outputs": [],
   "source": [
    "avg_sc_jsd = np.mean(sc_jsd,axis=0)\n",
    "avg_cf_jsd = np.mean(cf_jsd,axis=0)\n",
    "avg_sf_jsd = np.mean(sf_jsd,axis=0)\n",
    "avg_sc_jsd_w = np.mean(sc_jsd_w,axis=0)\n",
    "avg_cf_jsd_w = np.mean(cf_jsd_w,axis=0)\n",
    "avg_sf_jsd_w = np.mean(sf_jsd_w,axis=0)\n",
    "\n",
    "sc_jsd_sd = np.std(sc_jsd,axis=0)\n",
    "cf_jsd_sd = np.std(cf_jsd,axis=0)\n",
    "sf_jsd_sd = np.std(sf_jsd,axis=0)\n",
    "sc_jsd_w_sd = np.std(sc_jsd_w,axis=0)\n",
    "cf_jsd_w_sd = np.std(cf_jsd_w,axis=0)\n",
    "sf_jsd_w_sd = np.std(sf_jsd_w,axis=0)\n"
   ]
  },
  {
   "cell_type": "code",
   "execution_count": 7,
   "id": "dc64137f",
   "metadata": {},
   "outputs": [
    {
     "name": "stdout",
     "output_type": "stream",
     "text": [
      "$0.28\\pm0.07$ & $0.28\\pm0.01 & $0.15\\pm0.03$\n",
      "$0.25\\pm0.05$ & $0.27\\pm0.06 & $0.15\\pm0.04$\n"
     ]
    }
   ],
   "source": [
    "print('${:.2f}\\pm{:.2f}$ & ${:.2f}\\pm{:.2f} & ${:.2f}\\pm{:.2f}$'.format(avg_sc_jsd,\n",
    "                                                                                    sc_jsd_sd,\n",
    "                                                                                    avg_cf_jsd,\n",
    "                                                                                    cf_jsd_sd,\n",
    "                                                                                    avg_sf_jsd,\n",
    "                                                                                    sf_jsd_sd))\n",
    "\n",
    "print('${:.2f}\\pm{:.2f}$ & ${:.2f}\\pm{:.2f} & ${:.2f}\\pm{:.2f}$'.format(avg_sc_jsd_w,\n",
    "                                                                                    sc_jsd_w_sd,\n",
    "                                                                                    avg_cf_jsd_w,\n",
    "                                                                                    cf_jsd_w_sd,\n",
    "                                                                                    avg_sf_jsd_w,\n",
    "                                                                                    sf_jsd_w_sd))"
   ]
  },
  {
   "cell_type": "code",
   "execution_count": 8,
   "id": "0d33c81d",
   "metadata": {},
   "outputs": [],
   "source": [
    "def test(x,y,label=None):\n",
    "    print('Statistical test for {0}'.format(label))\n",
    "    try:\n",
    "        print(wilcoxon(x,y))\n",
    "    except Exception as e:\n",
    "        print(e)"
   ]
  },
  {
   "cell_type": "code",
   "execution_count": 9,
   "id": "3b255724",
   "metadata": {},
   "outputs": [
    {
     "name": "stdout",
     "output_type": "stream",
     "text": [
      "Statistical test for S-C\n",
      "WilcoxonResult(statistic=0.0, pvalue=0.15729920705028502)\n",
      "Statistical test for C-F\n",
      "WilcoxonResult(statistic=6.0, pvalue=0.6844698210251553)\n",
      "Statistical test for S-F\n",
      "WilcoxonResult(statistic=2.0, pvalue=0.5929800980174267)\n"
     ]
    },
    {
     "name": "stderr",
     "output_type": "stream",
     "text": [
      "/Users/matedravucz/opt/anaconda3/lib/python3.9/site-packages/scipy/stats/morestats.py:3141: UserWarning: Exact p-value calculation does not work if there are ties. Switching to normal approximation.\n",
      "  warnings.warn(\"Exact p-value calculation does not work if there are \"\n",
      "/Users/matedravucz/opt/anaconda3/lib/python3.9/site-packages/scipy/stats/morestats.py:3155: UserWarning: Sample size too small for normal approximation.\n",
      "  warnings.warn(\"Sample size too small for normal approximation.\")\n"
     ]
    }
   ],
   "source": [
    "test(sc_jsd,sc_jsd_w,'S-C')\n",
    "test(cf_jsd,cf_jsd_w,'C-F')\n",
    "test(sf_jsd,sf_jsd_w,'S-F')"
   ]
  }
 ],
 "metadata": {
  "kernelspec": {
   "display_name": "Python 3 (ipykernel)",
   "language": "python",
   "name": "python3"
  },
  "language_info": {
   "codemirror_mode": {
    "name": "ipython",
    "version": 3
   },
   "file_extension": ".py",
   "mimetype": "text/x-python",
   "name": "python",
   "nbconvert_exporter": "python",
   "pygments_lexer": "ipython3",
   "version": "3.9.7"
  }
 },
 "nbformat": 4,
 "nbformat_minor": 5
}
