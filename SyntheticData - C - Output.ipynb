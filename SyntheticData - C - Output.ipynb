{
 "cells": [
  {
   "cell_type": "code",
   "execution_count": 27,
   "id": "a21d5520",
   "metadata": {},
   "outputs": [],
   "source": [
    "import numpy as np\n",
    "import matplotlib\n",
    "import matplotlib.pyplot as plt\n",
    "\n",
    "from scipy.stats import wilcoxon\n"
   ]
  },
  {
   "cell_type": "code",
   "execution_count": 28,
   "id": "a291b51b",
   "metadata": {},
   "outputs": [],
   "source": [
    "endresults_app3_vstruct = np.load('./results/synthetic/a/avg-best-endresults-app3-vstruct.npy',allow_pickle=True)\n",
    "endresults_app3_vstruct_nopen = np.load('./results/synthetic/c/avg-best-endresults-app3-nopenalty-vstruct.npy',allow_pickle=True)"
   ]
  },
  {
   "cell_type": "code",
   "execution_count": 29,
   "id": "3078ed0f",
   "metadata": {},
   "outputs": [],
   "source": [
    "def avg_distance1(results):\n",
    "    dis = 0.0\n",
    "    n = len(results)\n",
    "    for i in range(n):\n",
    "        dis += results[i]['distance'].item()\n",
    "    return dis/n\n",
    "\n",
    "def avg_jsd1(results):\n",
    "    jsd = 0.0\n",
    "    n = len(results)\n",
    "    for i in range(n):\n",
    "        jsd += results[i]['jsd'].item()\n",
    "    return jsd/n\n",
    "\n",
    "def sdt_distance1(results):\n",
    "    n = len(results)\n",
    "    dis = np.zeros((n))\n",
    "    for i in range(n):\n",
    "        tmp = results[i]['distance'].item()\n",
    "        dis[i] = tmp\n",
    "    return np.std(dis,axis=0)\n",
    "\n",
    "def sdt_jsd1(results):\n",
    "    n = len(results)\n",
    "    jsd = np.zeros((n))\n",
    "    for i in range(n):\n",
    "        jsd[i] = results[i]['jsd'].item()\n",
    "    return np.std(jsd,axis=0)"
   ]
  },
  {
   "cell_type": "code",
   "execution_count": 30,
   "id": "9df046e2",
   "metadata": {},
   "outputs": [
    {
     "name": "stdout",
     "output_type": "stream",
     "text": [
      "$3.00\\pm1.34$ & $0.72\\pm0.08$\n",
      "$5.00\\pm2.41$ & $0.68\\pm0.15$\n"
     ]
    }
   ],
   "source": [
    "\n",
    "avg_jsd = avg_jsd1(endresults_app3_vstruct)\n",
    "jsd_sd = sdt_jsd1(endresults_app3_vstruct)\n",
    "\n",
    "avg_dist = avg_distance1(endresults_app3_vstruct)\n",
    "dist_sd = sdt_distance1(endresults_app3_vstruct)\n",
    "\n",
    "avg_jsd_ablated = avg_jsd1(endresults_app3_vstruct_nopen)\n",
    "jsd_ablated_sd = sdt_jsd1(endresults_app3_vstruct_nopen)\n",
    "\n",
    "avg_dist_ablated = avg_distance1(endresults_app3_vstruct_nopen)\n",
    "dist_ablated_sd = sdt_distance1(endresults_app3_vstruct_nopen)\n",
    "\n",
    "print('${:.2f}\\pm{:.2f}$ & ${:.2f}\\pm{:.2f}$'.format(avg_dist,dist_sd,avg_jsd,jsd_sd))\n",
    "print('${:.2f}\\pm{:.2f}$ & ${:.2f}\\pm{:.2f}$'.format(avg_dist_ablated,dist_ablated_sd,avg_jsd_ablated,jsd_ablated_sd))"
   ]
  },
  {
   "cell_type": "code",
   "execution_count": 31,
   "id": "edfd3f9a",
   "metadata": {},
   "outputs": [],
   "source": [
    "def test(x,y,label=None):\n",
    "    print('Statistical test for {0}'.format(label))\n",
    "    try:\n",
    "        print(wilcoxon(x,y))\n",
    "    except Exception as e:\n",
    "        print(e)"
   ]
  },
  {
   "cell_type": "code",
   "execution_count": 32,
   "id": "edfc64f9",
   "metadata": {},
   "outputs": [
    {
     "name": "stdout",
     "output_type": "stream",
     "text": [
      "Statistical test for distance\n",
      "WilcoxonResult(statistic=2.5, pvalue=0.04734500208525525)\n",
      "Statistical test for jsd\n",
      "WilcoxonResult(statistic=15.0, pvalue=0.6744240722352938)\n"
     ]
    },
    {
     "name": "stderr",
     "output_type": "stream",
     "text": [
      "/Users/matedravucz/opt/anaconda3/lib/python3.9/site-packages/scipy/stats/morestats.py:3141: UserWarning: Exact p-value calculation does not work if there are ties. Switching to normal approximation.\n",
      "  warnings.warn(\"Exact p-value calculation does not work if there are \"\n",
      "/Users/matedravucz/opt/anaconda3/lib/python3.9/site-packages/scipy/stats/morestats.py:3155: UserWarning: Sample size too small for normal approximation.\n",
      "  warnings.warn(\"Sample size too small for normal approximation.\")\n"
     ]
    }
   ],
   "source": [
    "metrics = ['distance','jsd']\n",
    "\n",
    "for m in metrics:\n",
    "    app1 = [endresults_app3_vstruct[i][m].item() for i in range(len(endresults_app3_vstruct))]\n",
    "    app2 = [endresults_app3_vstruct_nopen[i][m].item() for i in range(len(endresults_app3_vstruct_nopen))]\n",
    "\n",
    "    test(app1,app2,m)"
   ]
  },
  {
   "cell_type": "code",
   "execution_count": 33,
   "id": "76ac3875",
   "metadata": {},
   "outputs": [],
   "source": [
    "endresults_app3_extended = np.load('./results/synthetic/a/avg-best-endresults-app3-extended.npy',allow_pickle=True)\n",
    "endresults_app3_extended_nopen = np.load('./results/synthetic/c/avg-best-endresults-app3-nopenalty-extended.npy',allow_pickle=True)\n"
   ]
  },
  {
   "cell_type": "code",
   "execution_count": 34,
   "id": "d1cf08d3",
   "metadata": {},
   "outputs": [],
   "source": [
    "\n",
    "extended_alphas = {'Smoking_': np.array([[1, 0, 0, 0],\n",
    "        [0, 1, 0, 0],\n",
    "        [0, 0, 1, 1]]),\n",
    " 'Tar_': np.array([[1, 1, 0],\n",
    "        [0, 0, 1]]),\n",
    " 'Cancer_': np.array([[1, 0],\n",
    "        [0, 1]])}\n"
   ]
  },
  {
   "cell_type": "code",
   "execution_count": 35,
   "id": "8938fe86",
   "metadata": {},
   "outputs": [],
   "source": [
    "smoking = endresults_app3_extended[4]['normalised_alphas']['Smoking_']\n",
    "smoking_nopen = endresults_app3_extended_nopen[4]['normalised_alphas']['Smoking_']\n"
   ]
  },
  {
   "cell_type": "code",
   "execution_count": 36,
   "id": "aeac6f14",
   "metadata": {},
   "outputs": [
    {
     "data": {
      "image/png": "[encoded data removed]",
      "text/plain": [
       "<Figure size 864x288 with 3 Axes>"
      ]
     },
     "metadata": {
      "needs_background": "light"
     },
     "output_type": "display_data"
    }
   ],
   "source": [
    "fig, ((ax0, ax1, ax2)) = plt.subplots(nrows=1, ncols=3, tight_layout=True,figsize=(12, 4))\n",
    "\n",
    "ax0.matshow(smoking, cmap='Greys')\n",
    "ax0.set_ylabel(\"$\\mathcal{M}^\\prime[S^\\prime]$\",size=14)\n",
    "ax0.set_title(\"$\\mathcal{M}[S]$ With penalty\",size=14)\n",
    "\n",
    "ax1.matshow(smoking_nopen, cmap='Greys')\n",
    "ax1.set_ylabel(\"$\\mathcal{M}^\\prime[S^\\prime]$\",size=14)\n",
    "ax1.set_title(\"$\\mathcal{M}[S]$ Without penalty\",size=14)\n",
    "\n",
    "ax2.matshow(extended_alphas['Smoking_'], cmap='Greys')\n",
    "ax2.set_ylabel(\"$\\mathcal{M}^\\prime[S^\\prime]$\",size=14)\n",
    "ax2.set_title(\"$\\mathcal{M}[S]$ Ground truth\",size=14)\n",
    "\n",
    "plt.show()"
   ]
  },
  {
   "cell_type": "code",
   "execution_count": null,
   "id": "40107fcc",
   "metadata": {},
   "outputs": [],
   "source": []
  }
 ],
 "metadata": {
  "kernelspec": {
   "display_name": "Python 3 (ipykernel)",
   "language": "python",
   "name": "python3"
  },
  "language_info": {
   "codemirror_mode": {
    "name": "ipython",
    "version": 3
   },
   "file_extension": ".py",
   "mimetype": "text/x-python",
   "name": "python",
   "nbconvert_exporter": "python",
   "pygments_lexer": "ipython3",
   "version": "3.9.7"
  }
 },
 "nbformat": 4,
 "nbformat_minor": 5
}
