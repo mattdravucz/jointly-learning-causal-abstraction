{
 "cells": [
  {
   "cell_type": "markdown",
   "id": "5ef4c27a",
   "metadata": {},
   "source": [
    "# Real-world data experiment"
   ]
  },
  {
   "cell_type": "code",
   "execution_count": 1,
   "id": "28dd71c1",
   "metadata": {},
   "outputs": [],
   "source": [
    "import numpy as np\n",
    "import pandas as pd\n",
    "import seaborn as sns\n",
    "import matplotlib.pyplot as plt\n",
    "import joblib\n",
    "\n",
    "from pgmpy.models import BayesianNetwork as BN\n",
    "from pgmpy.factors.discrete import TabularCPD as cpd\n",
    "\n",
    "from sklearn.gaussian_process import GaussianProcessRegressor as GPR\n",
    "from sklearn.gaussian_process.kernels import DotProduct,RBF,Matern,RationalQuadratic"
   ]
  },
  {
   "cell_type": "code",
   "execution_count": 2,
   "id": "fe40d658",
   "metadata": {},
   "outputs": [],
   "source": [
    "np.random.seed(0)"
   ]
  },
  {
   "cell_type": "markdown",
   "id": "ae92a96c",
   "metadata": {},
   "source": [
    "# LRCS Data"
   ]
  },
  {
   "cell_type": "markdown",
   "id": "d71ca348",
   "metadata": {},
   "source": [
    "## Loading and pre-processing LRCS data"
   ]
  },
  {
   "cell_type": "markdown",
   "id": "dc0d149b",
   "metadata": {},
   "source": [
    "We load the LRCS data. We prepare the data by perfoming the following operations:\n",
    "1. We drop non-relevant target variables;\n",
    "2. (We get a sample by averaging together measurements with the same control variables;)\n",
    "3. We drop non-relevant control variables."
   ]
  },
  {
   "cell_type": "code",
   "execution_count": 3,
   "id": "1881503b",
   "metadata": {},
   "outputs": [
    {
     "data": {
      "text/html": [
       "<div>\n",
       "<style scoped>\n",
       "    .dataframe tbody tr th:only-of-type {\n",
       "        vertical-align: middle;\n",
       "    }\n",
       "\n",
       "    .dataframe tbody tr th {\n",
       "        vertical-align: top;\n",
       "    }\n",
       "\n",
       "    .dataframe thead th {\n",
       "        text-align: right;\n",
       "    }\n",
       "</style>\n",
       "<table border=\"1\" class=\"dataframe\">\n",
       "  <thead>\n",
       "    <tr style=\"text-align: right;\">\n",
       "      <th></th>\n",
       "      <th>Composition (A.M.%)</th>\n",
       "      <th>S-to-L Ratio (%)</th>\n",
       "      <th>Comma gap (µm)</th>\n",
       "      <th>Viscosity (Pas)</th>\n",
       "      <th>Mass Loading (mg cm-2)</th>\n",
       "    </tr>\n",
       "  </thead>\n",
       "  <tbody>\n",
       "    <tr>\n",
       "      <th>0</th>\n",
       "      <td>96.0</td>\n",
       "      <td>73.291013</td>\n",
       "      <td>50</td>\n",
       "      <td>3.1</td>\n",
       "      <td>7.508698</td>\n",
       "    </tr>\n",
       "    <tr>\n",
       "      <th>1</th>\n",
       "      <td>96.0</td>\n",
       "      <td>73.291013</td>\n",
       "      <td>50</td>\n",
       "      <td>3.1</td>\n",
       "      <td>7.579602</td>\n",
       "    </tr>\n",
       "    <tr>\n",
       "      <th>2</th>\n",
       "      <td>96.0</td>\n",
       "      <td>73.291013</td>\n",
       "      <td>50</td>\n",
       "      <td>3.1</td>\n",
       "      <td>6.941469</td>\n",
       "    </tr>\n",
       "    <tr>\n",
       "      <th>3</th>\n",
       "      <td>96.0</td>\n",
       "      <td>73.291013</td>\n",
       "      <td>50</td>\n",
       "      <td>3.1</td>\n",
       "      <td>7.437795</td>\n",
       "    </tr>\n",
       "    <tr>\n",
       "      <th>4</th>\n",
       "      <td>96.0</td>\n",
       "      <td>73.291013</td>\n",
       "      <td>50</td>\n",
       "      <td>3.1</td>\n",
       "      <td>7.225084</td>\n",
       "    </tr>\n",
       "  </tbody>\n",
       "</table>\n",
       "</div>"
      ],
      "text/plain": [
       "   Composition (A.M.%)  S-to-L Ratio (%)  Comma gap (µm)  Viscosity (Pas)  \\\n",
       "0                 96.0         73.291013              50              3.1   \n",
       "1                 96.0         73.291013              50              3.1   \n",
       "2                 96.0         73.291013              50              3.1   \n",
       "3                 96.0         73.291013              50              3.1   \n",
       "4                 96.0         73.291013              50              3.1   \n",
       "\n",
       "   Mass Loading (mg cm-2)   \n",
       "0                 7.508698  \n",
       "1                 7.579602  \n",
       "2                 6.941469  \n",
       "3                 7.437795  \n",
       "4                 7.225084  "
      ]
     },
     "execution_count": 3,
     "metadata": {},
     "output_type": "execute_result"
    }
   ],
   "source": [
    "df_LRCS = pd.read_csv('data/batteries/LRCS_Dataset.csv',sep=';',decimal=',')\n",
    "df_LRCS.drop(df_LRCS.columns[[5,6]], axis=1, inplace=True)\n",
    "df_LRCS.head()"
   ]
  },
  {
   "cell_type": "markdown",
   "id": "4a065c0c",
   "metadata": {},
   "source": [
    "We average the eight samples with the same four control parameters."
   ]
  },
  {
   "cell_type": "raw",
   "id": "87090b47",
   "metadata": {},
   "source": [
    "df_LRCS = df_LRCS.groupby(['Composition (A.M.%)','S-to-L Ratio (%)','Comma gap (µm)','Viscosity (Pas)'],as_index=False).aggregate('mean')"
   ]
  },
  {
   "cell_type": "markdown",
   "id": "c8614770",
   "metadata": {},
   "source": [
    "We keep two control variables (*AM composition, comma gap*) and one target variable (*mass loading*)."
   ]
  },
  {
   "cell_type": "code",
   "execution_count": 4,
   "id": "01c00931",
   "metadata": {},
   "outputs": [],
   "source": [
    "df_LRCS.drop(df_LRCS.columns[[1,3]], axis=1, inplace=True)"
   ]
  },
  {
   "cell_type": "markdown",
   "id": "cb26afbd",
   "metadata": {},
   "source": [
    "This is our starting LRCS dataset."
   ]
  },
  {
   "cell_type": "code",
   "execution_count": 5,
   "id": "5af08674",
   "metadata": {},
   "outputs": [
    {
     "data": {
      "text/html": [
       "<div>\n",
       "<style scoped>\n",
       "    .dataframe tbody tr th:only-of-type {\n",
       "        vertical-align: middle;\n",
       "    }\n",
       "\n",
       "    .dataframe tbody tr th {\n",
       "        vertical-align: top;\n",
       "    }\n",
       "\n",
       "    .dataframe thead th {\n",
       "        text-align: right;\n",
       "    }\n",
       "</style>\n",
       "<table border=\"1\" class=\"dataframe\">\n",
       "  <thead>\n",
       "    <tr style=\"text-align: right;\">\n",
       "      <th></th>\n",
       "      <th>Composition (A.M.%)</th>\n",
       "      <th>Comma gap (µm)</th>\n",
       "      <th>Mass Loading (mg cm-2)</th>\n",
       "    </tr>\n",
       "  </thead>\n",
       "  <tbody>\n",
       "    <tr>\n",
       "      <th>0</th>\n",
       "      <td>96.0</td>\n",
       "      <td>50</td>\n",
       "      <td>7.508698</td>\n",
       "    </tr>\n",
       "    <tr>\n",
       "      <th>1</th>\n",
       "      <td>96.0</td>\n",
       "      <td>50</td>\n",
       "      <td>7.579602</td>\n",
       "    </tr>\n",
       "    <tr>\n",
       "      <th>2</th>\n",
       "      <td>96.0</td>\n",
       "      <td>50</td>\n",
       "      <td>6.941469</td>\n",
       "    </tr>\n",
       "    <tr>\n",
       "      <th>3</th>\n",
       "      <td>96.0</td>\n",
       "      <td>50</td>\n",
       "      <td>7.437795</td>\n",
       "    </tr>\n",
       "    <tr>\n",
       "      <th>4</th>\n",
       "      <td>96.0</td>\n",
       "      <td>50</td>\n",
       "      <td>7.225084</td>\n",
       "    </tr>\n",
       "  </tbody>\n",
       "</table>\n",
       "</div>"
      ],
      "text/plain": [
       "   Composition (A.M.%)  Comma gap (µm)  Mass Loading (mg cm-2) \n",
       "0                 96.0              50                 7.508698\n",
       "1                 96.0              50                 7.579602\n",
       "2                 96.0              50                 6.941469\n",
       "3                 96.0              50                 7.437795\n",
       "4                 96.0              50                 7.225084"
      ]
     },
     "execution_count": 5,
     "metadata": {},
     "output_type": "execute_result"
    }
   ],
   "source": [
    "df_LRCS.head()"
   ]
  },
  {
   "cell_type": "markdown",
   "id": "86b1f1c0",
   "metadata": {},
   "source": [
    "# WMG Data"
   ]
  },
  {
   "cell_type": "markdown",
   "id": "f53edf7f",
   "metadata": {},
   "source": [
    "## Loading and preprocessing WMG data"
   ]
  },
  {
   "cell_type": "markdown",
   "id": "337bbe25",
   "metadata": {},
   "source": [
    "We load the WMG data. "
   ]
  },
  {
   "cell_type": "markdown",
   "id": "9221fc88",
   "metadata": {},
   "source": [
    "### Control variables \n",
    "We start from the data containing information about the control variables. We prepare this data by perfoming the following operations:\n",
    "1. We retain only data about timing, comma bar gap and roll gear ratio;\n",
    "2. We convert the comma bar measure from mm to µm, and we multiply it by the roll gear ratio to have a measure consistent with the LRCS data;\n",
    "3. We enrich the data with the known AM control variable."
   ]
  },
  {
   "cell_type": "code",
   "execution_count": 6,
   "id": "72a1213f",
   "metadata": {},
   "outputs": [
    {
     "data": {
      "text/html": [
       "<div>\n",
       "<style scoped>\n",
       "    .dataframe tbody tr th:only-of-type {\n",
       "        vertical-align: middle;\n",
       "    }\n",
       "\n",
       "    .dataframe tbody tr th {\n",
       "        vertical-align: top;\n",
       "    }\n",
       "\n",
       "    .dataframe thead th {\n",
       "        text-align: right;\n",
       "    }\n",
       "</style>\n",
       "<table border=\"1\" class=\"dataframe\">\n",
       "  <thead>\n",
       "    <tr style=\"text-align: right;\">\n",
       "      <th></th>\n",
       "      <th>Row Number</th>\n",
       "      <th>Date</th>\n",
       "      <th>Time</th>\n",
       "      <th>Comma Bar Op Position SP (mm)</th>\n",
       "      <th>Comma Bar Op Position Actual (mm)</th>\n",
       "      <th>Comma Bar Gr Position SP (mm)</th>\n",
       "      <th>Comma Bar Gr Position Actual (mm)</th>\n",
       "      <th>Bump Roll Op Position SP (mm)</th>\n",
       "      <th>Bump Roll Op Position Actual (mm)</th>\n",
       "      <th>Bump Roll Gr Position SP (mm)</th>\n",
       "      <th>...</th>\n",
       "      <th>bump_position_slave_row_7 (mm)</th>\n",
       "      <th>Patch length Actual (mm)</th>\n",
       "      <th>Skip (MFZ) length Actual (mm)</th>\n",
       "      <th>Side A Pos. Actual (mm)</th>\n",
       "      <th>Side B Pos. Actual (mm)</th>\n",
       "      <th>Correction Dist. Actual (mm)</th>\n",
       "      <th>Product offset value Actual</th>\n",
       "      <th>Sensor offset value Actual</th>\n",
       "      <th>Reg. Enabled/Disabled</th>\n",
       "      <th>Reg. Data Okay or Not Okay</th>\n",
       "    </tr>\n",
       "  </thead>\n",
       "  <tbody>\n",
       "    <tr>\n",
       "      <th>0</th>\n",
       "      <td>1</td>\n",
       "      <td>11/04/2020</td>\n",
       "      <td>09:13:23</td>\n",
       "      <td>0.0</td>\n",
       "      <td>0.0</td>\n",
       "      <td>-0.004</td>\n",
       "      <td>-0.004</td>\n",
       "      <td>1.250</td>\n",
       "      <td>1.250</td>\n",
       "      <td>1.069</td>\n",
       "      <td>...</td>\n",
       "      <td>0.0</td>\n",
       "      <td>987.784</td>\n",
       "      <td>11.096</td>\n",
       "      <td>520.997</td>\n",
       "      <td>0.0</td>\n",
       "      <td>-442.0</td>\n",
       "      <td>0.0</td>\n",
       "      <td>442.0</td>\n",
       "      <td>1.0</td>\n",
       "      <td>0.0</td>\n",
       "    </tr>\n",
       "    <tr>\n",
       "      <th>1</th>\n",
       "      <td>2</td>\n",
       "      <td>11/04/2020</td>\n",
       "      <td>09:13:24</td>\n",
       "      <td>0.0</td>\n",
       "      <td>0.0</td>\n",
       "      <td>-0.004</td>\n",
       "      <td>-0.004</td>\n",
       "      <td>1.250</td>\n",
       "      <td>1.250</td>\n",
       "      <td>1.070</td>\n",
       "      <td>...</td>\n",
       "      <td>0.0</td>\n",
       "      <td>987.784</td>\n",
       "      <td>11.096</td>\n",
       "      <td>520.997</td>\n",
       "      <td>0.0</td>\n",
       "      <td>-442.0</td>\n",
       "      <td>0.0</td>\n",
       "      <td>442.0</td>\n",
       "      <td>1.0</td>\n",
       "      <td>0.0</td>\n",
       "    </tr>\n",
       "    <tr>\n",
       "      <th>2</th>\n",
       "      <td>3</td>\n",
       "      <td>11/04/2020</td>\n",
       "      <td>09:13:25</td>\n",
       "      <td>0.0</td>\n",
       "      <td>0.0</td>\n",
       "      <td>-0.004</td>\n",
       "      <td>-0.004</td>\n",
       "      <td>1.251</td>\n",
       "      <td>1.251</td>\n",
       "      <td>1.070</td>\n",
       "      <td>...</td>\n",
       "      <td>0.0</td>\n",
       "      <td>987.784</td>\n",
       "      <td>11.096</td>\n",
       "      <td>520.997</td>\n",
       "      <td>0.0</td>\n",
       "      <td>-442.0</td>\n",
       "      <td>0.0</td>\n",
       "      <td>442.0</td>\n",
       "      <td>1.0</td>\n",
       "      <td>0.0</td>\n",
       "    </tr>\n",
       "    <tr>\n",
       "      <th>3</th>\n",
       "      <td>4</td>\n",
       "      <td>11/04/2020</td>\n",
       "      <td>09:13:26</td>\n",
       "      <td>0.0</td>\n",
       "      <td>0.0</td>\n",
       "      <td>-0.004</td>\n",
       "      <td>-0.004</td>\n",
       "      <td>1.251</td>\n",
       "      <td>1.251</td>\n",
       "      <td>1.070</td>\n",
       "      <td>...</td>\n",
       "      <td>0.0</td>\n",
       "      <td>987.784</td>\n",
       "      <td>11.096</td>\n",
       "      <td>520.997</td>\n",
       "      <td>0.0</td>\n",
       "      <td>-442.0</td>\n",
       "      <td>0.0</td>\n",
       "      <td>442.0</td>\n",
       "      <td>1.0</td>\n",
       "      <td>0.0</td>\n",
       "    </tr>\n",
       "    <tr>\n",
       "      <th>4</th>\n",
       "      <td>5</td>\n",
       "      <td>11/04/2020</td>\n",
       "      <td>09:13:27</td>\n",
       "      <td>0.0</td>\n",
       "      <td>0.0</td>\n",
       "      <td>-0.004</td>\n",
       "      <td>-0.004</td>\n",
       "      <td>1.251</td>\n",
       "      <td>1.251</td>\n",
       "      <td>1.071</td>\n",
       "      <td>...</td>\n",
       "      <td>0.0</td>\n",
       "      <td>987.784</td>\n",
       "      <td>11.096</td>\n",
       "      <td>520.997</td>\n",
       "      <td>0.0</td>\n",
       "      <td>-442.0</td>\n",
       "      <td>0.0</td>\n",
       "      <td>442.0</td>\n",
       "      <td>1.0</td>\n",
       "      <td>0.0</td>\n",
       "    </tr>\n",
       "  </tbody>\n",
       "</table>\n",
       "<p>5 rows × 72 columns</p>\n",
       "</div>"
      ],
      "text/plain": [
       "   Row Number        Date      Time  Comma Bar Op Position SP (mm)  \\\n",
       "0           1  11/04/2020  09:13:23                            0.0   \n",
       "1           2  11/04/2020  09:13:24                            0.0   \n",
       "2           3  11/04/2020  09:13:25                            0.0   \n",
       "3           4  11/04/2020  09:13:26                            0.0   \n",
       "4           5  11/04/2020  09:13:27                            0.0   \n",
       "\n",
       "   Comma Bar Op Position Actual (mm)  Comma Bar Gr Position SP (mm)  \\\n",
       "0                                0.0                         -0.004   \n",
       "1                                0.0                         -0.004   \n",
       "2                                0.0                         -0.004   \n",
       "3                                0.0                         -0.004   \n",
       "4                                0.0                         -0.004   \n",
       "\n",
       "   Comma Bar Gr Position Actual (mm)  Bump Roll Op Position SP (mm)  \\\n",
       "0                             -0.004                          1.250   \n",
       "1                             -0.004                          1.250   \n",
       "2                             -0.004                          1.251   \n",
       "3                             -0.004                          1.251   \n",
       "4                             -0.004                          1.251   \n",
       "\n",
       "   Bump Roll Op Position Actual (mm)  Bump Roll Gr Position SP (mm)  ...  \\\n",
       "0                              1.250                          1.069  ...   \n",
       "1                              1.250                          1.070  ...   \n",
       "2                              1.251                          1.070  ...   \n",
       "3                              1.251                          1.070  ...   \n",
       "4                              1.251                          1.071  ...   \n",
       "\n",
       "   bump_position_slave_row_7 (mm)  Patch length Actual (mm)  \\\n",
       "0                             0.0                   987.784   \n",
       "1                             0.0                   987.784   \n",
       "2                             0.0                   987.784   \n",
       "3                             0.0                   987.784   \n",
       "4                             0.0                   987.784   \n",
       "\n",
       "   Skip (MFZ) length Actual (mm)  Side A Pos. Actual (mm)  \\\n",
       "0                         11.096                  520.997   \n",
       "1                         11.096                  520.997   \n",
       "2                         11.096                  520.997   \n",
       "3                         11.096                  520.997   \n",
       "4                         11.096                  520.997   \n",
       "\n",
       "   Side B Pos. Actual (mm)  Correction Dist. Actual (mm)  \\\n",
       "0                      0.0                        -442.0   \n",
       "1                      0.0                        -442.0   \n",
       "2                      0.0                        -442.0   \n",
       "3                      0.0                        -442.0   \n",
       "4                      0.0                        -442.0   \n",
       "\n",
       "   Product offset value Actual  Sensor offset value Actual  \\\n",
       "0                          0.0                       442.0   \n",
       "1                          0.0                       442.0   \n",
       "2                          0.0                       442.0   \n",
       "3                          0.0                       442.0   \n",
       "4                          0.0                       442.0   \n",
       "\n",
       "   Reg. Enabled/Disabled  Reg. Data Okay or Not Okay  \n",
       "0                    1.0                         0.0  \n",
       "1                    1.0                         0.0  \n",
       "2                    1.0                         0.0  \n",
       "3                    1.0                         0.0  \n",
       "4                    1.0                         0.0  \n",
       "\n",
       "[5 rows x 72 columns]"
      ]
     },
     "execution_count": 6,
     "metadata": {},
     "output_type": "execute_result"
    }
   ],
   "source": [
    "df_comma = pd.read_csv('data/batteries/WMG_DataComma.csv',sep=',',decimal='.')\n",
    "df_comma.head()"
   ]
  },
  {
   "cell_type": "code",
   "execution_count": 7,
   "id": "19de6317",
   "metadata": {},
   "outputs": [
    {
     "data": {
      "text/plain": [
       "array([100., 130., 118., 150., 142., 125.])"
      ]
     },
     "execution_count": 7,
     "metadata": {},
     "output_type": "execute_result"
    }
   ],
   "source": [
    "df_comma['Coating Roll Gear Ratio Setpoint'].unique()"
   ]
  },
  {
   "cell_type": "code",
   "execution_count": 8,
   "id": "ba7673c6",
   "metadata": {},
   "outputs": [
    {
     "data": {
      "text/plain": [
       "12198"
      ]
     },
     "execution_count": 8,
     "metadata": {},
     "output_type": "execute_result"
    }
   ],
   "source": [
    "len(df_comma)"
   ]
  },
  {
   "cell_type": "code",
   "execution_count": 9,
   "id": "c2a14b91",
   "metadata": {},
   "outputs": [],
   "source": [
    "df_coater = df_comma[['Time', 'Comma Bar Op Position Actual (mm)', 'Coating Roll Gear Ratio Setpoint']].copy()"
   ]
  },
  {
   "cell_type": "code",
   "execution_count": 10,
   "id": "7e16532f",
   "metadata": {},
   "outputs": [],
   "source": [
    "df_coater['Comma Bar Op Position Actual (µm)'] = df_coater['Comma Bar Op Position Actual (mm)']*1000*df_coater['Coating Roll Gear Ratio Setpoint']/100"
   ]
  },
  {
   "cell_type": "code",
   "execution_count": 11,
   "id": "330cb52c",
   "metadata": {},
   "outputs": [
    {
     "data": {
      "text/plain": [
       "array([  0.  , 143.  ,   1.3 , 161.2 , 169.  ,   2.6 ,   5.2 ,  -1.3 ,\n",
       "       108.56,   1.18,   1.5 , 165.  , 166.5 , 144.3 ,  -3.9 ,  -2.6 ,\n",
       "       152.22, 151.04,   2.36,   3.9 ,   4.26, 181.76,   1.42,   2.84,\n",
       "         7.8 , 150.  ,  91.5 ,   3.  ,  93.  , 147.  , 145.5 ,   4.5 ,\n",
       "         1.25,   5.  ,   2.5 , 106.25,   3.75,   7.5 ,   6.25, 180.  ,\n",
       "         6.  ,   9.  ,  13.5 , 182.  ,  10.4 ,   6.5 ])"
      ]
     },
     "execution_count": 11,
     "metadata": {},
     "output_type": "execute_result"
    }
   ],
   "source": [
    "df_coater['Comma Bar Op Position Actual (µm)'].unique()"
   ]
  },
  {
   "cell_type": "code",
   "execution_count": 12,
   "id": "fd553995",
   "metadata": {},
   "outputs": [],
   "source": [
    "df_coater['AM'] = 96.0"
   ]
  },
  {
   "cell_type": "markdown",
   "id": "95d0cc94",
   "metadata": {},
   "source": [
    "### Measurement variables\n",
    "We then load the measurement data. We prepare this data by perfoming the following operations:\n",
    "1. We compute average measurements from $n_{avg\\_points}$ spatial locations at the center of the plaque;\n",
    "2. We convert the measurements from $g \\cdot m^{-2}$ to $mg \\cdot cm^{-2}$ to be consistent with the LRCS data."
   ]
  },
  {
   "cell_type": "code",
   "execution_count": 13,
   "id": "523e5453",
   "metadata": {},
   "outputs": [
    {
     "data": {
      "text/html": [
       "<div>\n",
       "<style scoped>\n",
       "    .dataframe tbody tr th:only-of-type {\n",
       "        vertical-align: middle;\n",
       "    }\n",
       "\n",
       "    .dataframe tbody tr th {\n",
       "        vertical-align: top;\n",
       "    }\n",
       "\n",
       "    .dataframe thead th {\n",
       "        text-align: right;\n",
       "    }\n",
       "</style>\n",
       "<table border=\"1\" class=\"dataframe\">\n",
       "  <thead>\n",
       "    <tr style=\"text-align: right;\">\n",
       "      <th></th>\n",
       "      <th>0</th>\n",
       "      <th>1</th>\n",
       "      <th>2</th>\n",
       "      <th>3</th>\n",
       "      <th>4</th>\n",
       "      <th>5</th>\n",
       "      <th>6</th>\n",
       "      <th>7</th>\n",
       "      <th>8</th>\n",
       "      <th>9</th>\n",
       "      <th>...</th>\n",
       "      <th>795</th>\n",
       "      <th>796</th>\n",
       "      <th>797</th>\n",
       "      <th>798</th>\n",
       "      <th>799</th>\n",
       "      <th>800</th>\n",
       "      <th>801</th>\n",
       "      <th>802</th>\n",
       "      <th>803</th>\n",
       "      <th>804</th>\n",
       "    </tr>\n",
       "  </thead>\n",
       "  <tbody>\n",
       "    <tr>\n",
       "      <th>0</th>\n",
       "      <td>04.11.2020</td>\n",
       "      <td>10:05:00</td>\n",
       "      <td>1</td>\n",
       "      <td>0.000</td>\n",
       "      <td>0.1</td>\n",
       "      <td>0.1</td>\n",
       "      <td>0.1</td>\n",
       "      <td>0.1</td>\n",
       "      <td>0.1</td>\n",
       "      <td>0.1</td>\n",
       "      <td>...</td>\n",
       "      <td>0.1</td>\n",
       "      <td>0.1</td>\n",
       "      <td>0.1</td>\n",
       "      <td>0.1</td>\n",
       "      <td>0.1</td>\n",
       "      <td>0.1</td>\n",
       "      <td>0.1</td>\n",
       "      <td>0.1</td>\n",
       "      <td>0.1</td>\n",
       "      <td>NaN</td>\n",
       "    </tr>\n",
       "    <tr>\n",
       "      <th>1</th>\n",
       "      <td>04.11.2020</td>\n",
       "      <td>10:05:08</td>\n",
       "      <td>1</td>\n",
       "      <td>0.000</td>\n",
       "      <td>0.1</td>\n",
       "      <td>0.1</td>\n",
       "      <td>0.1</td>\n",
       "      <td>0.1</td>\n",
       "      <td>0.1</td>\n",
       "      <td>0.1</td>\n",
       "      <td>...</td>\n",
       "      <td>0.1</td>\n",
       "      <td>0.1</td>\n",
       "      <td>0.1</td>\n",
       "      <td>0.1</td>\n",
       "      <td>0.1</td>\n",
       "      <td>0.1</td>\n",
       "      <td>0.1</td>\n",
       "      <td>0.1</td>\n",
       "      <td>0.1</td>\n",
       "      <td>NaN</td>\n",
       "    </tr>\n",
       "    <tr>\n",
       "      <th>2</th>\n",
       "      <td>04.11.2020</td>\n",
       "      <td>10:05:16</td>\n",
       "      <td>1</td>\n",
       "      <td>0.000</td>\n",
       "      <td>0.1</td>\n",
       "      <td>0.1</td>\n",
       "      <td>0.1</td>\n",
       "      <td>0.1</td>\n",
       "      <td>0.1</td>\n",
       "      <td>0.1</td>\n",
       "      <td>...</td>\n",
       "      <td>0.1</td>\n",
       "      <td>0.1</td>\n",
       "      <td>0.1</td>\n",
       "      <td>0.1</td>\n",
       "      <td>0.1</td>\n",
       "      <td>0.1</td>\n",
       "      <td>0.1</td>\n",
       "      <td>0.1</td>\n",
       "      <td>0.1</td>\n",
       "      <td>NaN</td>\n",
       "    </tr>\n",
       "    <tr>\n",
       "      <th>3</th>\n",
       "      <td>04.11.2020</td>\n",
       "      <td>10:05:24</td>\n",
       "      <td>1</td>\n",
       "      <td>0.004</td>\n",
       "      <td>0.1</td>\n",
       "      <td>0.1</td>\n",
       "      <td>0.1</td>\n",
       "      <td>0.1</td>\n",
       "      <td>0.1</td>\n",
       "      <td>0.1</td>\n",
       "      <td>...</td>\n",
       "      <td>0.1</td>\n",
       "      <td>0.1</td>\n",
       "      <td>0.1</td>\n",
       "      <td>0.1</td>\n",
       "      <td>0.1</td>\n",
       "      <td>0.1</td>\n",
       "      <td>0.1</td>\n",
       "      <td>0.1</td>\n",
       "      <td>0.1</td>\n",
       "      <td>NaN</td>\n",
       "    </tr>\n",
       "    <tr>\n",
       "      <th>4</th>\n",
       "      <td>04.11.2020</td>\n",
       "      <td>10:05:32</td>\n",
       "      <td>1</td>\n",
       "      <td>0.010</td>\n",
       "      <td>0.1</td>\n",
       "      <td>0.1</td>\n",
       "      <td>0.1</td>\n",
       "      <td>0.1</td>\n",
       "      <td>0.1</td>\n",
       "      <td>0.1</td>\n",
       "      <td>...</td>\n",
       "      <td>0.1</td>\n",
       "      <td>0.1</td>\n",
       "      <td>0.1</td>\n",
       "      <td>0.1</td>\n",
       "      <td>0.1</td>\n",
       "      <td>0.1</td>\n",
       "      <td>0.1</td>\n",
       "      <td>0.1</td>\n",
       "      <td>0.1</td>\n",
       "      <td>NaN</td>\n",
       "    </tr>\n",
       "  </tbody>\n",
       "</table>\n",
       "<p>5 rows × 805 columns</p>\n",
       "</div>"
      ],
      "text/plain": [
       "          0         1    2      3    4    5    6    7    8    9    ...  795  \\\n",
       "0  04.11.2020  10:05:00    1  0.000  0.1  0.1  0.1  0.1  0.1  0.1  ...  0.1   \n",
       "1  04.11.2020  10:05:08    1  0.000  0.1  0.1  0.1  0.1  0.1  0.1  ...  0.1   \n",
       "2  04.11.2020  10:05:16    1  0.000  0.1  0.1  0.1  0.1  0.1  0.1  ...  0.1   \n",
       "3  04.11.2020  10:05:24    1  0.004  0.1  0.1  0.1  0.1  0.1  0.1  ...  0.1   \n",
       "4  04.11.2020  10:05:32    1  0.010  0.1  0.1  0.1  0.1  0.1  0.1  ...  0.1   \n",
       "\n",
       "   796  797  798  799  800  801  802  803  804  \n",
       "0  0.1  0.1  0.1  0.1  0.1  0.1  0.1  0.1  NaN  \n",
       "1  0.1  0.1  0.1  0.1  0.1  0.1  0.1  0.1  NaN  \n",
       "2  0.1  0.1  0.1  0.1  0.1  0.1  0.1  0.1  NaN  \n",
       "3  0.1  0.1  0.1  0.1  0.1  0.1  0.1  0.1  NaN  \n",
       "4  0.1  0.1  0.1  0.1  0.1  0.1  0.1  0.1  NaN  \n",
       "\n",
       "[5 rows x 805 columns]"
      ]
     },
     "execution_count": 13,
     "metadata": {},
     "output_type": "execute_result"
    }
   ],
   "source": [
    "df_dry = pd.read_csv('data/batteries/WMG_DataDry.dat',header=None,delim_whitespace=True)\n",
    "df_dry.head()"
   ]
  },
  {
   "cell_type": "code",
   "execution_count": 14,
   "id": "aaa4d9ad",
   "metadata": {
    "scrolled": true
   },
   "outputs": [
    {
     "data": {
      "text/plain": [
       "1460"
      ]
     },
     "execution_count": 14,
     "metadata": {},
     "output_type": "execute_result"
    }
   ],
   "source": [
    "len(df_dry)"
   ]
  },
  {
   "cell_type": "code",
   "execution_count": 15,
   "id": "8210f788",
   "metadata": {
    "scrolled": true
   },
   "outputs": [],
   "source": [
    "n_averaging_locations = 2\n",
    "\n",
    "def df_getcentralavg_in_mg_cm2(df,low=350,high=450,colname='avg'):\n",
    "    df[colname] = df.iloc[:,low:high].mean(axis=1) / 10\n",
    "\n",
    "avg_names = []\n",
    "basevalue = 353\n",
    "step = np.int32(np.floor(100/n_averaging_locations))\n",
    "for i in range(n_averaging_locations):\n",
    "    df_getcentralavg_in_mg_cm2(df_dry,\n",
    "                    low = basevalue+(i*step),\n",
    "                    high = basevalue+((i+1)*step),\n",
    "                    colname = 'avg'+str(i) )\n",
    "    avg_names.append('avg'+str(i))"
   ]
  },
  {
   "cell_type": "markdown",
   "id": "067b0d89",
   "metadata": {},
   "source": [
    "### Aligning control and measurements \n",
    "Last we need to align the data into a new dataframe. We start observing the comma bar data."
   ]
  },
  {
   "cell_type": "code",
   "execution_count": 16,
   "id": "d2d3dba2",
   "metadata": {
    "scrolled": true
   },
   "outputs": [
    {
     "data": {
      "text/plain": [
       "<AxesSubplot:>"
      ]
     },
     "execution_count": 16,
     "metadata": {},
     "output_type": "execute_result"
    },
    {
     "data": {
      "image/png": "[encoded data removed]",
      "text/plain": [
       "<Figure size 432x288 with 1 Axes>"
      ]
     },
     "metadata": {
      "needs_background": "light"
     },
     "output_type": "display_data"
    }
   ],
   "source": [
    "df_coater['Comma Bar Op Position Actual (µm)'].plot()"
   ]
  },
  {
   "cell_type": "markdown",
   "id": "fe8e450b",
   "metadata": {},
   "source": [
    "We distinguish 15 spikes corresponding to 15 different experimental settings. We now try to extract the intervals and the values in these spikes."
   ]
  },
  {
   "cell_type": "code",
   "execution_count": 17,
   "id": "c6b55f52",
   "metadata": {},
   "outputs": [],
   "source": [
    "def get_on_off_points(data,mask,start=None,stop=None):\n",
    "    if not(start): start = 0\n",
    "    if not(stop): stop = len(mask)\n",
    "    \n",
    "    on = False\n",
    "    onpoint = None\n",
    "    \n",
    "    onpoints = []\n",
    "    offpoints = []\n",
    "    cgs = {}\n",
    "    for i in range(start,stop):\n",
    "        if not(on):\n",
    "            if mask[i]==True:\n",
    "                on = True\n",
    "                onpoint = i\n",
    "                onpoints.append(i)\n",
    "                cgs[str(onpoint)] = [data[i]]\n",
    "        else:\n",
    "            if mask[i]==False:\n",
    "                offpoints.append(i)\n",
    "                on = False\n",
    "            else:\n",
    "                cgs[str(onpoint)].append(data[i])\n",
    "                \n",
    "    return onpoints, offpoints, cgs"
   ]
  },
  {
   "cell_type": "code",
   "execution_count": 18,
   "id": "a1c5aa9a",
   "metadata": {},
   "outputs": [],
   "source": [
    "mask = df_coater['Comma Bar Op Position Actual (µm)'] > 40\n",
    "onpoints, offpoints, cgs = get_on_off_points(df_coater['Comma Bar Op Position Actual (µm)'], mask)"
   ]
  },
  {
   "cell_type": "code",
   "execution_count": 19,
   "id": "28749992",
   "metadata": {},
   "outputs": [
    {
     "name": "stdout",
     "output_type": "stream",
     "text": [
      "\n",
      " (1) 809 - 844 (35):\n",
      "[143.0, 143.0, 143.0, 143.0, 143.0, 143.0, 143.0, 143.0, 143.0, 143.0, 143.0, 143.0, 143.0, 143.0, 143.0, 143.0, 143.0, 143.0, 143.0, 143.0, 143.0, 143.0, 143.0, 143.0, 143.0, 143.0, 143.0, 143.0, 143.0, 143.0, 143.0, 143.0, 143.0, 143.0, 143.0]\n",
      "\n",
      " (2) 1478 - 1558 (80):\n",
      "[161.2, 169.0, 169.0, 169.0, 169.0, 169.0, 169.0, 169.0, 169.0, 169.0, 169.0, 169.0, 169.0, 169.0, 169.0, 169.0, 169.0, 169.0, 169.0, 169.0, 169.0, 169.0, 169.0, 169.0, 169.0, 169.0, 169.0, 169.0, 169.0, 169.0, 169.0, 169.0, 169.0, 169.0, 169.0, 169.0, 169.0, 169.0, 169.0, 169.0, 169.0, 169.0, 169.0, 169.0, 169.0, 169.0, 169.0, 169.0, 169.0, 169.0, 169.0, 169.0, 169.0, 169.0, 169.0, 169.0, 169.0, 169.0, 169.0, 169.0, 169.0, 169.0, 169.0, 169.0, 169.0, 169.0, 169.0, 169.0, 169.0, 169.0, 169.0, 169.0, 169.0, 169.0, 169.0, 169.0, 169.0, 169.0, 169.0, 169.0]\n",
      "\n",
      " (3) 2045 - 2101 (56):\n",
      "[143.0, 143.0, 143.0, 143.0, 143.0, 143.0, 143.0, 143.0, 143.0, 143.0, 143.0, 143.0, 143.0, 143.0, 143.0, 143.0, 143.0, 143.0, 143.0, 143.0, 143.0, 143.0, 143.0, 143.0, 143.0, 143.0, 143.0, 143.0, 143.0, 143.0, 143.0, 143.0, 143.0, 143.0, 143.0, 143.0, 143.0, 143.0, 143.0, 143.0, 143.0, 143.0, 143.0, 143.0, 143.0, 143.0, 143.0, 143.0, 143.0, 143.0, 143.0, 143.0, 143.0, 143.0, 143.0, 143.0]\n",
      "\n",
      " (4) 2682 - 2721 (39):\n",
      "[108.56, 108.56, 108.56, 108.56, 108.56, 108.56, 108.56, 108.56, 108.56, 108.56, 108.56, 108.56, 108.56, 108.56, 108.56, 108.56, 108.56, 108.56, 108.56, 108.56, 108.56, 108.56, 108.56, 108.56, 108.56, 108.56, 108.56, 108.56, 108.56, 108.56, 108.56, 108.56, 108.56, 108.56, 108.56, 108.56, 108.56, 108.56, 108.56]\n",
      "\n",
      " (5) 3190 - 3265 (75):\n",
      "[165.0, 165.0, 165.0, 165.0, 165.0, 165.0, 165.0, 165.0, 165.0, 165.0, 165.0, 165.0, 165.0, 165.0, 165.0, 165.0, 165.0, 165.0, 165.0, 165.0, 165.0, 165.0, 165.0, 165.0, 165.0, 165.0, 165.0, 165.0, 165.0, 165.0, 165.0, 165.0, 165.0, 165.0, 165.0, 165.0, 165.0, 165.0, 165.0, 165.0, 165.0, 165.0, 165.0, 165.0, 165.0, 165.0, 165.0, 165.0, 165.0, 165.0, 165.0, 165.0, 165.0, 165.0, 165.0, 165.0, 165.0, 165.0, 165.0, 165.0, 165.0, 165.0, 165.0, 165.0, 165.0, 165.0, 165.0, 165.0, 165.0, 165.0, 165.0, 165.0, 165.0, 165.0, 165.0]\n",
      "\n",
      " (6) 3266 - 3271 (5):\n",
      "[166.5, 165.0, 165.0, 165.0, 165.0]\n",
      "\n",
      " (7) 3791 - 3844 (53):\n",
      "[144.3, 143.0, 143.0, 143.0, 143.0, 143.0, 143.0, 143.0, 143.0, 143.0, 143.0, 143.0, 143.0, 143.0, 143.0, 143.0, 143.0, 143.0, 143.0, 143.0, 143.0, 143.0, 143.0, 143.0, 143.0, 143.0, 143.0, 143.0, 143.0, 143.0, 143.0, 143.0, 143.0, 143.0, 143.0, 143.0, 143.0, 143.0, 143.0, 143.0, 143.0, 143.0, 143.0, 143.0, 143.0, 143.0, 143.0, 143.0, 143.0, 143.0, 143.0, 143.0, 143.0]\n",
      "\n",
      " (8) 4616 - 4691 (75):\n",
      "[152.22, 151.04, 151.04, 151.04, 151.04, 151.04, 151.04, 151.04, 151.04, 151.04, 151.04, 151.04, 151.04, 151.04, 151.04, 151.04, 151.04, 151.04, 151.04, 151.04, 151.04, 151.04, 151.04, 151.04, 151.04, 151.04, 151.04, 151.04, 151.04, 151.04, 151.04, 151.04, 151.04, 151.04, 151.04, 151.04, 151.04, 151.04, 151.04, 151.04, 151.04, 151.04, 151.04, 151.04, 151.04, 151.04, 151.04, 151.04, 151.04, 151.04, 151.04, 151.04, 151.04, 151.04, 151.04, 151.04, 151.04, 151.04, 151.04, 151.04, 151.04, 151.04, 151.04, 151.04, 151.04, 151.04, 151.04, 151.04, 151.04, 151.04, 151.04, 151.04, 151.04, 151.04, 151.04]\n",
      "\n",
      " (9) 5242 - 5347 (105):\n",
      "[144.3, 143.0, 143.0, 143.0, 143.0, 143.0, 143.0, 143.0, 143.0, 143.0, 143.0, 143.0, 143.0, 143.0, 143.0, 143.0, 143.0, 143.0, 143.0, 143.0, 143.0, 143.0, 143.0, 143.0, 143.0, 143.0, 143.0, 143.0, 143.0, 143.0, 143.0, 143.0, 143.0, 143.0, 143.0, 143.0, 143.0, 143.0, 143.0, 143.0, 143.0, 143.0, 143.0, 143.0, 143.0, 143.0, 143.0, 143.0, 143.0, 143.0, 143.0, 143.0, 143.0, 143.0, 143.0, 143.0, 143.0, 143.0, 143.0, 143.0, 143.0, 143.0, 143.0, 143.0, 143.0, 143.0, 143.0, 143.0, 143.0, 143.0, 143.0, 143.0, 143.0, 143.0, 143.0, 143.0, 143.0, 143.0, 143.0, 143.0, 143.0, 143.0, 143.0, 143.0, 143.0, 143.0, 143.0, 143.0, 143.0, 143.0, 143.0, 143.0, 143.0, 143.0, 143.0, 143.0, 143.0, 143.0, 143.0, 143.0, 143.0, 143.0, 143.0, 143.0, 143.0]\n",
      "\n",
      " (10) 6284 - 6321 (37):\n",
      "[181.76, 181.76, 181.76, 181.76, 181.76, 181.76, 181.76, 181.76, 181.76, 181.76, 181.76, 181.76, 181.76, 181.76, 181.76, 181.76, 181.76, 181.76, 181.76, 181.76, 181.76, 181.76, 181.76, 181.76, 181.76, 181.76, 181.76, 181.76, 181.76, 181.76, 181.76, 181.76, 181.76, 181.76, 181.76, 181.76, 181.76]\n",
      "\n",
      " (11) 6713 - 6740 (27):\n",
      "[143.0, 143.0, 143.0, 143.0, 143.0, 143.0, 143.0, 143.0, 143.0, 143.0, 143.0, 143.0, 143.0, 143.0, 143.0, 143.0, 143.0, 143.0, 143.0, 143.0, 143.0, 143.0, 143.0, 143.0, 143.0, 143.0, 143.0]\n",
      "\n",
      " (12) 6804 - 6849 (45):\n",
      "[143.0, 143.0, 143.0, 143.0, 143.0, 143.0, 143.0, 143.0, 143.0, 143.0, 143.0, 143.0, 143.0, 143.0, 143.0, 143.0, 143.0, 143.0, 143.0, 143.0, 143.0, 143.0, 143.0, 143.0, 143.0, 143.0, 143.0, 143.0, 143.0, 143.0, 143.0, 143.0, 143.0, 143.0, 143.0, 143.0, 143.0, 143.0, 143.0, 143.0, 143.0, 143.0, 143.0, 143.0, 143.0]\n",
      "\n",
      " (13) 7727 - 7773 (46):\n",
      "[150.0, 150.0, 150.0, 150.0, 150.0, 150.0, 150.0, 150.0, 150.0, 150.0, 150.0, 150.0, 150.0, 150.0, 150.0, 150.0, 150.0, 150.0, 150.0, 150.0, 150.0, 150.0, 150.0, 150.0, 150.0, 150.0, 150.0, 150.0, 150.0, 150.0, 150.0, 150.0, 150.0, 150.0, 150.0, 150.0, 150.0, 150.0, 150.0, 150.0, 150.0, 150.0, 150.0, 150.0, 150.0, 91.5]\n",
      "\n",
      " (14) 7827 - 8138 (311):\n",
      "[93.0, 150.0, 150.0, 150.0, 150.0, 150.0, 150.0, 150.0, 150.0, 150.0, 150.0, 150.0, 150.0, 150.0, 150.0, 150.0, 150.0, 150.0, 150.0, 150.0, 150.0, 150.0, 150.0, 150.0, 150.0, 150.0, 150.0, 150.0, 150.0, 150.0, 150.0, 150.0, 150.0, 150.0, 150.0, 150.0, 150.0, 150.0, 150.0, 150.0, 150.0, 150.0, 150.0, 150.0, 150.0, 150.0, 150.0, 150.0, 150.0, 150.0, 150.0, 150.0, 150.0, 150.0, 150.0, 150.0, 150.0, 150.0, 150.0, 150.0, 150.0, 150.0, 150.0, 150.0, 150.0, 150.0, 150.0, 150.0, 150.0, 150.0, 150.0, 150.0, 150.0, 150.0, 150.0, 150.0, 150.0, 150.0, 150.0, 150.0, 150.0, 150.0, 150.0, 150.0, 150.0, 150.0, 150.0, 147.0, 145.5, 145.5, 145.5, 145.5, 145.5, 145.5, 145.5, 145.5, 145.5, 145.5, 145.5, 145.5, 145.5, 145.5, 145.5, 145.5, 145.5, 145.5, 145.5, 145.5, 145.5, 145.5, 145.5, 145.5, 145.5, 145.5, 145.5, 145.5, 145.5, 145.5, 145.5, 145.5, 145.5, 145.5, 145.5, 145.5, 145.5, 145.5, 145.5, 145.5, 145.5, 145.5, 145.5, 145.5, 145.5, 145.5, 145.5, 145.5, 145.5, 145.5, 145.5, 145.5, 145.5, 145.5, 145.5, 145.5, 145.5, 145.5, 145.5, 145.5, 145.5, 145.5, 145.5, 145.5, 145.5, 145.5, 145.5, 145.5, 145.5, 145.5, 145.5, 145.5, 145.5, 145.5, 145.5, 145.5, 145.5, 145.5, 145.5, 145.5, 145.5, 145.5, 145.5, 145.5, 145.5, 145.5, 145.5, 145.5, 145.5, 145.5, 145.5, 145.5, 145.5, 145.5, 145.5, 145.5, 145.5, 145.5, 145.5, 145.5, 145.5, 145.5, 145.5, 145.5, 147.0, 147.0, 147.0, 147.0, 147.0, 147.0, 147.0, 147.0, 147.0, 147.0, 147.0, 147.0, 147.0, 147.0, 147.0, 147.0, 147.0, 147.0, 147.0, 147.0, 147.0, 147.0, 147.0, 147.0, 147.0, 147.0, 147.0, 147.0, 147.0, 147.0, 147.0, 147.0, 147.0, 147.0, 147.0, 147.0, 147.0, 147.0, 147.0, 147.0, 147.0, 147.0, 147.0, 147.0, 147.0, 147.0, 147.0, 147.0, 147.0, 147.0, 147.0, 147.0, 147.0, 147.0, 147.0, 147.0, 147.0, 147.0, 147.0, 147.0, 147.0, 147.0, 147.0, 147.0, 147.0, 147.0, 147.0, 147.0, 147.0, 147.0, 147.0, 147.0, 147.0, 147.0, 147.0, 147.0, 147.0, 147.0, 147.0, 147.0, 147.0, 147.0, 147.0, 147.0, 147.0, 147.0, 147.0, 147.0, 147.0, 147.0, 147.0, 147.0, 147.0, 147.0, 147.0, 147.0, 147.0, 147.0, 147.0, 147.0, 147.0, 147.0, 147.0, 147.0, 147.0, 147.0, 147.0, 147.0, 147.0, 147.0, 147.0, 147.0, 147.0, 147.0, 147.0, 147.0, 147.0, 147.0, 147.0]\n",
      "\n",
      " (15) 8780 - 8869 (89):\n",
      "[147.0, 147.0, 147.0, 147.0, 147.0, 147.0, 147.0, 147.0, 147.0, 147.0, 147.0, 147.0, 147.0, 147.0, 147.0, 147.0, 147.0, 147.0, 147.0, 147.0, 147.0, 147.0, 147.0, 147.0, 147.0, 147.0, 147.0, 147.0, 147.0, 147.0, 147.0, 147.0, 147.0, 147.0, 147.0, 147.0, 147.0, 147.0, 147.0, 147.0, 147.0, 147.0, 147.0, 147.0, 147.0, 147.0, 147.0, 147.0, 147.0, 147.0, 147.0, 147.0, 147.0, 147.0, 147.0, 147.0, 147.0, 147.0, 147.0, 147.0, 147.0, 147.0, 147.0, 147.0, 147.0, 147.0, 147.0, 147.0, 147.0, 147.0, 147.0, 147.0, 147.0, 147.0, 147.0, 147.0, 147.0, 147.0, 147.0, 147.0, 147.0, 147.0, 147.0, 147.0, 147.0, 147.0, 147.0, 147.0, 147.0]\n",
      "\n",
      " (16) 8870 - 9346 (476):\n",
      "[147.0, 147.0, 147.0, 147.0, 147.0, 147.0, 147.0, 147.0, 147.0, 147.0, 147.0, 147.0, 147.0, 147.0, 147.0, 147.0, 147.0, 147.0, 147.0, 147.0, 147.0, 147.0, 147.0, 147.0, 147.0, 147.0, 147.0, 147.0, 147.0, 147.0, 147.0, 147.0, 147.0, 147.0, 147.0, 147.0, 147.0, 147.0, 147.0, 147.0, 147.0, 147.0, 147.0, 147.0, 147.0, 147.0, 147.0, 147.0, 147.0, 147.0, 147.0, 147.0, 147.0, 147.0, 147.0, 147.0, 147.0, 147.0, 147.0, 147.0, 147.0, 147.0, 147.0, 147.0, 147.0, 147.0, 147.0, 147.0, 147.0, 147.0, 147.0, 147.0, 147.0, 147.0, 147.0, 147.0, 147.0, 147.0, 147.0, 147.0, 147.0, 147.0, 147.0, 147.0, 147.0, 147.0, 147.0, 147.0, 147.0, 147.0, 147.0, 147.0, 147.0, 147.0, 147.0, 147.0, 147.0, 147.0, 147.0, 147.0, 147.0, 147.0, 147.0, 147.0, 147.0, 147.0, 147.0, 147.0, 147.0, 147.0, 147.0, 147.0, 147.0, 147.0, 147.0, 147.0, 147.0, 147.0, 147.0, 147.0, 147.0, 147.0, 147.0, 147.0, 147.0, 147.0, 147.0, 147.0, 147.0, 147.0, 147.0, 147.0, 147.0, 147.0, 147.0, 147.0, 147.0, 147.0, 147.0, 147.0, 147.0, 147.0, 147.0, 147.0, 147.0, 147.0, 147.0, 147.0, 147.0, 147.0, 147.0, 147.0, 147.0, 147.0, 147.0, 147.0, 147.0, 147.0, 147.0, 147.0, 147.0, 147.0, 147.0, 147.0, 147.0, 147.0, 147.0, 147.0, 147.0, 147.0, 147.0, 147.0, 147.0, 147.0, 147.0, 147.0, 147.0, 147.0, 147.0, 147.0, 147.0, 147.0, 147.0, 147.0, 147.0, 147.0, 147.0, 147.0, 147.0, 147.0, 147.0, 147.0, 147.0, 147.0, 147.0, 147.0, 147.0, 147.0, 147.0, 147.0, 147.0, 147.0, 147.0, 147.0, 147.0, 147.0, 147.0, 147.0, 147.0, 147.0, 147.0, 147.0, 147.0, 147.0, 147.0, 147.0, 147.0, 147.0, 147.0, 147.0, 147.0, 147.0, 147.0, 147.0, 147.0, 147.0, 147.0, 147.0, 147.0, 147.0, 147.0, 147.0, 147.0, 147.0, 147.0, 147.0, 147.0, 147.0, 147.0, 147.0, 147.0, 147.0, 147.0, 147.0, 147.0, 147.0, 147.0, 147.0, 147.0, 147.0, 147.0, 147.0, 147.0, 147.0, 147.0, 147.0, 147.0, 147.0, 147.0, 147.0, 147.0, 147.0, 147.0, 147.0, 147.0, 147.0, 147.0, 147.0, 147.0, 147.0, 147.0, 147.0, 147.0, 147.0, 147.0, 147.0, 147.0, 147.0, 147.0, 147.0, 147.0, 147.0, 147.0, 147.0, 147.0, 147.0, 147.0, 147.0, 147.0, 147.0, 147.0, 147.0, 147.0, 147.0, 147.0, 147.0, 147.0, 147.0, 147.0, 147.0, 147.0, 147.0, 147.0, 147.0, 147.0, 147.0, 147.0, 147.0, 147.0, 147.0, 147.0, 147.0, 147.0, 147.0, 147.0, 147.0, 147.0, 147.0, 147.0, 147.0, 147.0, 147.0, 147.0, 147.0, 147.0, 147.0, 147.0, 147.0, 147.0, 147.0, 147.0, 147.0, 147.0, 147.0, 147.0, 147.0, 147.0, 147.0, 147.0, 147.0, 147.0, 147.0, 147.0, 147.0, 147.0, 147.0, 147.0, 147.0, 147.0, 147.0, 147.0, 147.0, 147.0, 147.0, 147.0, 147.0, 147.0, 147.0, 147.0, 147.0, 147.0, 147.0, 147.0, 147.0, 147.0, 147.0, 147.0, 147.0, 147.0, 147.0, 147.0, 147.0, 147.0, 147.0, 147.0, 147.0, 147.0, 147.0, 147.0, 147.0, 147.0, 147.0, 147.0, 147.0, 147.0, 147.0, 147.0, 147.0, 147.0, 147.0, 147.0, 147.0, 147.0, 147.0, 147.0, 147.0, 147.0, 147.0, 147.0, 147.0, 147.0, 147.0, 147.0, 147.0, 147.0, 147.0, 147.0, 147.0, 147.0, 147.0, 147.0, 147.0, 147.0, 147.0, 147.0, 147.0, 147.0, 147.0, 147.0, 147.0, 147.0, 147.0, 147.0, 147.0, 147.0, 147.0, 147.0, 147.0, 147.0, 147.0, 147.0, 147.0, 147.0, 147.0, 147.0, 147.0, 147.0, 147.0, 147.0, 147.0, 147.0, 147.0, 147.0, 147.0, 147.0, 147.0, 147.0, 147.0, 147.0, 147.0, 147.0, 147.0, 147.0, 147.0, 147.0, 147.0, 147.0, 147.0, 147.0, 147.0, 147.0, 147.0, 147.0, 147.0, 147.0, 147.0, 147.0, 147.0, 147.0, 147.0, 147.0, 147.0, 147.0, 147.0, 147.0, 147.0]\n",
      "\n",
      " (17) 9786 - 9830 (44):\n",
      "[106.25, 106.25, 106.25, 106.25, 106.25, 106.25, 106.25, 106.25, 106.25, 106.25, 106.25, 106.25, 106.25, 106.25, 106.25, 106.25, 106.25, 106.25, 106.25, 106.25, 106.25, 106.25, 106.25, 106.25, 106.25, 106.25, 106.25, 106.25, 106.25, 106.25, 106.25, 106.25, 106.25, 106.25, 106.25, 106.25, 106.25, 106.25, 106.25, 106.25, 106.25, 106.25, 106.25, 106.25]\n",
      "\n",
      " (18) 10410 - 10529 (119):\n",
      "[180.0, 180.0, 180.0, 180.0, 180.0, 180.0, 180.0, 180.0, 180.0, 180.0, 180.0, 180.0, 180.0, 180.0, 180.0, 180.0, 180.0, 180.0, 180.0, 180.0, 180.0, 180.0, 180.0, 180.0, 180.0, 180.0, 180.0, 180.0, 180.0, 180.0, 180.0, 180.0, 180.0, 180.0, 180.0, 180.0, 180.0, 180.0, 180.0, 180.0, 180.0, 180.0, 180.0, 180.0, 180.0, 180.0, 180.0, 180.0, 180.0, 180.0, 180.0, 180.0, 180.0, 180.0, 180.0, 180.0, 180.0, 180.0, 180.0, 180.0, 180.0, 180.0, 180.0, 180.0, 180.0, 180.0, 180.0, 180.0, 180.0, 180.0, 180.0, 180.0, 180.0, 180.0, 180.0, 180.0, 180.0, 180.0, 180.0, 180.0, 180.0, 180.0, 180.0, 180.0, 180.0, 180.0, 180.0, 180.0, 180.0, 180.0, 180.0, 180.0, 180.0, 180.0, 180.0, 180.0, 180.0, 180.0, 180.0, 180.0, 180.0, 180.0, 180.0, 180.0, 180.0, 180.0, 180.0, 180.0, 180.0, 180.0, 180.0, 180.0, 180.0, 180.0, 180.0, 180.0, 180.0, 180.0, 180.0]\n",
      "\n",
      " (19) 11396 - 11461 (65):\n",
      "[182.0, 182.0, 182.0, 182.0, 182.0, 182.0, 182.0, 182.0, 182.0, 182.0, 182.0, 182.0, 182.0, 182.0, 182.0, 182.0, 182.0, 182.0, 182.0, 182.0, 182.0, 182.0, 182.0, 182.0, 182.0, 182.0, 182.0, 182.0, 182.0, 182.0, 182.0, 182.0, 182.0, 182.0, 182.0, 182.0, 182.0, 182.0, 182.0, 182.0, 182.0, 182.0, 182.0, 182.0, 182.0, 182.0, 182.0, 182.0, 182.0, 182.0, 182.0, 182.0, 182.0, 182.0, 182.0, 182.0, 182.0, 182.0, 182.0, 182.0, 182.0, 182.0, 182.0, 182.0, 182.0]\n"
     ]
    }
   ],
   "source": [
    "cg_labels = []\n",
    "for i in range(len(onpoints)):  \n",
    "    print('\\n ({0}) {1} - {2} ({3}):'.format(i+1, onpoints[i],offpoints[i], offpoints[i]-onpoints[i]))\n",
    "    print('{0}'.format(cgs[str(onpoints[i])]))\n",
    "    cg_labels.append(np.median(cgs[str(onpoints[i])]))"
   ]
  },
  {
   "cell_type": "markdown",
   "id": "a4715cb8",
   "metadata": {},
   "source": [
    "Notice that we have 19 intervals because four times, during the setting of the comma gap, the recording shortly fell to zero. In particular we aggregate in the same spike:\n",
    "- Interval 5 and 6, both having $CG=165$, but separated by a one-second drop to $CG=0$;\n",
    "- Interval 11 and 12, both having $CG=143$, but separated by a one-minute drop to $CG=0$;\n",
    "- Interval 13 and 14, both having $CG \\approx 150$, but separated by a one-minute drop to $CG=0$;\n",
    "- Interval 15 and 16, both having $CG=147$, but separated by a one-second drop to $CG=0$."
   ]
  },
  {
   "cell_type": "code",
   "execution_count": 20,
   "id": "2e56720c",
   "metadata": {},
   "outputs": [
    {
     "data": {
      "text/plain": [
       "{106.25,\n",
       " 108.56,\n",
       " 143.0,\n",
       " 147.0,\n",
       " 150.0,\n",
       " 151.04,\n",
       " 165.0,\n",
       " 169.0,\n",
       " 180.0,\n",
       " 181.76,\n",
       " 182.0}"
      ]
     },
     "execution_count": 20,
     "metadata": {},
     "output_type": "execute_result"
    }
   ],
   "source": [
    "set(cg_labels)"
   ]
  },
  {
   "cell_type": "markdown",
   "id": "f836be04",
   "metadata": {},
   "source": [
    "Thus in total we have $CG$ setting in the set: $\\{85, 92, 98, 100, 110, 120, 128, 130, 140 \\}$."
   ]
  },
  {
   "cell_type": "markdown",
   "id": "203268ea",
   "metadata": {},
   "source": [
    "We now turn our attention to the mass loading dataset."
   ]
  },
  {
   "cell_type": "code",
   "execution_count": 21,
   "id": "38afe1ff",
   "metadata": {},
   "outputs": [
    {
     "data": {
      "text/plain": [
       "<AxesSubplot:>"
      ]
     },
     "execution_count": 21,
     "metadata": {},
     "output_type": "execute_result"
    },
    {
     "data": {
      "image/png": "[encoded data removed]",
      "text/plain": [
       "<Figure size 432x288 with 1 Axes>"
      ]
     },
     "metadata": {
      "needs_background": "light"
     },
     "output_type": "display_data"
    }
   ],
   "source": [
    "df_coater['Comma Bar Op Position Actual (µm)'].plot()"
   ]
  },
  {
   "cell_type": "code",
   "execution_count": 22,
   "id": "cd890f56",
   "metadata": {},
   "outputs": [
    {
     "data": {
      "text/plain": [
       "<AxesSubplot:>"
      ]
     },
     "execution_count": 22,
     "metadata": {},
     "output_type": "execute_result"
    },
    {
     "data": {
      "image/png": "[encoded data removed]",
      "text/plain": [
       "<Figure size 432x288 with 1 Axes>"
      ]
     },
     "metadata": {
      "needs_background": "light"
     },
     "output_type": "display_data"
    }
   ],
   "source": [
    "df_dry['avg0'].plot()"
   ]
  },
  {
   "cell_type": "markdown",
   "id": "0d60ec01",
   "metadata": {},
   "source": [
    "We get 15 spikes here as well. As before we extract the intervals."
   ]
  },
  {
   "cell_type": "code",
   "execution_count": 23,
   "id": "9faaa102",
   "metadata": {},
   "outputs": [],
   "source": [
    "mask = df_dry['avg0'] > 10\n",
    "onpoints, offpoints, mls = get_on_off_points(df_dry['avg0'], mask)"
   ]
  },
  {
   "cell_type": "code",
   "execution_count": 24,
   "id": "f477f972",
   "metadata": {},
   "outputs": [
    {
     "name": "stdout",
     "output_type": "stream",
     "text": [
      "\n",
      " (1) 117 - 120 (3):\n",
      "22.267693333333327\n",
      "\n",
      " (2) 222 - 230 (8):\n",
      "25.2082975\n",
      "\n",
      " (3) 272 - 302 (30):\n",
      "21.687307999999994\n",
      "\n",
      " (4) 363 - 368 (5):\n",
      "18.297356\n",
      "\n",
      " (5) 424 - 427 (3):\n",
      "25.973060000000004\n",
      "\n",
      " (6) 489 - 494 (5):\n",
      "21.495748000000003\n",
      "\n",
      " (7) 586 - 620 (34):\n",
      "22.844512352941177\n",
      "\n",
      " (8) 716 - 750 (34):\n",
      "22.15215117647059\n",
      "\n",
      " (9) 787 - 791 (4):\n",
      "26.40842\n",
      "\n",
      " (10) 860 - 862 (2):\n",
      "24.53900000000001\n",
      "\n",
      " (11) 864 - 869 (5):\n",
      "21.821416\n",
      "\n",
      " (12) 977 - 984 (7):\n",
      "22.214468571428572\n",
      "\n",
      " (13) 985 - 1064 (79):\n",
      "22.495755696202536\n",
      "\n",
      " (14) 1104 - 1126 (22):\n",
      "22.57285909090909\n",
      "\n",
      " (15) 1236 - 1241 (5):\n",
      "17.300688\n",
      "\n",
      " (16) 1365 - 1393 (28):\n",
      "24.612877857142852\n",
      "\n",
      " (17) 1424 - 1431 (7):\n",
      "24.818802857142856\n"
     ]
    }
   ],
   "source": [
    "for i in range(len(onpoints)):  \n",
    "    print('\\n ({0}) {1} - {2} ({3}):'.format(i+1, onpoints[i],offpoints[i], offpoints[i]-onpoints[i]))\n",
    "    print('{0}'.format(np.mean(mls[str(onpoints[i])])))"
   ]
  },
  {
   "cell_type": "markdown",
   "id": "7f5bf85d",
   "metadata": {},
   "source": [
    "We now have 17 intervals, but a look at the data reveals that we can aggregate two intervals:\n",
    "- Interval 10 and 11, separated by a two timesteps drop to $0$;\n",
    "- Interval 12 and 13, separated by a one timestep drop to $0$."
   ]
  },
  {
   "cell_type": "markdown",
   "id": "07463c36",
   "metadata": {},
   "source": [
    "We now redefine CG labels to align with our ML measurements."
   ]
  },
  {
   "cell_type": "code",
   "execution_count": 25,
   "id": "bcc86e88",
   "metadata": {},
   "outputs": [
    {
     "name": "stdout",
     "output_type": "stream",
     "text": [
      "[143.0, 169.0, 143.0, 108.56, 165.0, 143.0, 151.04, 143.0, 181.76, 143.0, 143.0, 150.0, 147.0, 147.0, 106.25, 180.0, 182.0]\n"
     ]
    }
   ],
   "source": [
    "cg_labels.pop(15); cg_labels.pop(5)\n",
    "print(cg_labels)"
   ]
  },
  {
   "cell_type": "markdown",
   "id": "7c166019",
   "metadata": {},
   "source": [
    "Finally, we build our dataset."
   ]
  },
  {
   "cell_type": "code",
   "execution_count": 26,
   "id": "6ba13abb",
   "metadata": {},
   "outputs": [],
   "source": [
    "data = {\n",
    "    'CG': [],\n",
    "    'AM': [],\n",
    "}\n",
    "for n in range(n_averaging_locations):\n",
    "    data['ML_avg'+str(n)] = []"
   ]
  },
  {
   "cell_type": "code",
   "execution_count": 27,
   "id": "3c19fad7",
   "metadata": {},
   "outputs": [],
   "source": [
    "for i in range(len(onpoints)):\n",
    "    for j in range(offpoints[i]-onpoints[i]):\n",
    "        data['CG'].append(cg_labels[i])\n",
    "        data['AM'].append(96.0)\n",
    "        for n in range(n_averaging_locations):\n",
    "            data['ML_avg'+str(n)].append(df_dry['avg'+str(n)][onpoints[i]+j])\n"
   ]
  },
  {
   "cell_type": "code",
   "execution_count": 28,
   "id": "f965d8d0",
   "metadata": {},
   "outputs": [
    {
     "data": {
      "text/html": [
       "<div>\n",
       "<style scoped>\n",
       "    .dataframe tbody tr th:only-of-type {\n",
       "        vertical-align: middle;\n",
       "    }\n",
       "\n",
       "    .dataframe tbody tr th {\n",
       "        vertical-align: top;\n",
       "    }\n",
       "\n",
       "    .dataframe thead th {\n",
       "        text-align: right;\n",
       "    }\n",
       "</style>\n",
       "<table border=\"1\" class=\"dataframe\">\n",
       "  <thead>\n",
       "    <tr style=\"text-align: right;\">\n",
       "      <th></th>\n",
       "      <th>CG</th>\n",
       "      <th>AM</th>\n",
       "      <th>ML_avg0</th>\n",
       "      <th>ML_avg1</th>\n",
       "    </tr>\n",
       "  </thead>\n",
       "  <tbody>\n",
       "    <tr>\n",
       "      <th>0</th>\n",
       "      <td>143.0</td>\n",
       "      <td>96.0</td>\n",
       "      <td>22.44898</td>\n",
       "      <td>22.31306</td>\n",
       "    </tr>\n",
       "    <tr>\n",
       "      <th>1</th>\n",
       "      <td>143.0</td>\n",
       "      <td>96.0</td>\n",
       "      <td>22.19144</td>\n",
       "      <td>22.06854</td>\n",
       "    </tr>\n",
       "    <tr>\n",
       "      <th>2</th>\n",
       "      <td>143.0</td>\n",
       "      <td>96.0</td>\n",
       "      <td>22.16266</td>\n",
       "      <td>21.80864</td>\n",
       "    </tr>\n",
       "    <tr>\n",
       "      <th>3</th>\n",
       "      <td>169.0</td>\n",
       "      <td>96.0</td>\n",
       "      <td>25.08116</td>\n",
       "      <td>24.92084</td>\n",
       "    </tr>\n",
       "    <tr>\n",
       "      <th>4</th>\n",
       "      <td>169.0</td>\n",
       "      <td>96.0</td>\n",
       "      <td>26.07010</td>\n",
       "      <td>25.85620</td>\n",
       "    </tr>\n",
       "  </tbody>\n",
       "</table>\n",
       "</div>"
      ],
      "text/plain": [
       "      CG    AM   ML_avg0   ML_avg1\n",
       "0  143.0  96.0  22.44898  22.31306\n",
       "1  143.0  96.0  22.19144  22.06854\n",
       "2  143.0  96.0  22.16266  21.80864\n",
       "3  169.0  96.0  25.08116  24.92084\n",
       "4  169.0  96.0  26.07010  25.85620"
      ]
     },
     "execution_count": 28,
     "metadata": {},
     "output_type": "execute_result"
    }
   ],
   "source": [
    "df_WMG = pd.DataFrame(data=data)\n",
    "df_WMG.head()"
   ]
  },
  {
   "cell_type": "code",
   "execution_count": 29,
   "id": "d4f80f7b",
   "metadata": {},
   "outputs": [
    {
     "data": {
      "text/plain": [
       "281"
      ]
     },
     "execution_count": 29,
     "metadata": {},
     "output_type": "execute_result"
    }
   ],
   "source": [
    "len(df_WMG)"
   ]
  },
  {
   "cell_type": "markdown",
   "id": "5c890c3f",
   "metadata": {},
   "source": [
    "# Abstraction"
   ]
  },
  {
   "cell_type": "markdown",
   "id": "b736cff2",
   "metadata": {},
   "source": [
    "## Further preprocessing\n",
    "\n",
    "In our abstraction WMG will be the low-level model (higher spatial resolution, higher resolution for CG), while LRCS be the high-level model."
   ]
  },
  {
   "cell_type": "code",
   "execution_count": 30,
   "id": "366dad4d",
   "metadata": {},
   "outputs": [
    {
     "data": {
      "text/html": [
       "<div>\n",
       "<style scoped>\n",
       "    .dataframe tbody tr th:only-of-type {\n",
       "        vertical-align: middle;\n",
       "    }\n",
       "\n",
       "    .dataframe tbody tr th {\n",
       "        vertical-align: top;\n",
       "    }\n",
       "\n",
       "    .dataframe thead th {\n",
       "        text-align: right;\n",
       "    }\n",
       "</style>\n",
       "<table border=\"1\" class=\"dataframe\">\n",
       "  <thead>\n",
       "    <tr style=\"text-align: right;\">\n",
       "      <th></th>\n",
       "      <th>Composition (A.M.%)</th>\n",
       "      <th>Comma gap (µm)</th>\n",
       "      <th>Mass Loading (mg cm-2)</th>\n",
       "    </tr>\n",
       "  </thead>\n",
       "  <tbody>\n",
       "    <tr>\n",
       "      <th>0</th>\n",
       "      <td>96.0</td>\n",
       "      <td>50</td>\n",
       "      <td>7.508698</td>\n",
       "    </tr>\n",
       "    <tr>\n",
       "      <th>1</th>\n",
       "      <td>96.0</td>\n",
       "      <td>50</td>\n",
       "      <td>7.579602</td>\n",
       "    </tr>\n",
       "    <tr>\n",
       "      <th>2</th>\n",
       "      <td>96.0</td>\n",
       "      <td>50</td>\n",
       "      <td>6.941469</td>\n",
       "    </tr>\n",
       "    <tr>\n",
       "      <th>3</th>\n",
       "      <td>96.0</td>\n",
       "      <td>50</td>\n",
       "      <td>7.437795</td>\n",
       "    </tr>\n",
       "    <tr>\n",
       "      <th>4</th>\n",
       "      <td>96.0</td>\n",
       "      <td>50</td>\n",
       "      <td>7.225084</td>\n",
       "    </tr>\n",
       "  </tbody>\n",
       "</table>\n",
       "</div>"
      ],
      "text/plain": [
       "   Composition (A.M.%)  Comma gap (µm)  Mass Loading (mg cm-2) \n",
       "0                 96.0              50                 7.508698\n",
       "1                 96.0              50                 7.579602\n",
       "2                 96.0              50                 6.941469\n",
       "3                 96.0              50                 7.437795\n",
       "4                 96.0              50                 7.225084"
      ]
     },
     "execution_count": 30,
     "metadata": {},
     "output_type": "execute_result"
    }
   ],
   "source": [
    "df_LRCS.head()"
   ]
  },
  {
   "cell_type": "code",
   "execution_count": 31,
   "id": "6b2ec7c5",
   "metadata": {},
   "outputs": [
    {
     "data": {
      "text/html": [
       "<div>\n",
       "<style scoped>\n",
       "    .dataframe tbody tr th:only-of-type {\n",
       "        vertical-align: middle;\n",
       "    }\n",
       "\n",
       "    .dataframe tbody tr th {\n",
       "        vertical-align: top;\n",
       "    }\n",
       "\n",
       "    .dataframe thead th {\n",
       "        text-align: right;\n",
       "    }\n",
       "</style>\n",
       "<table border=\"1\" class=\"dataframe\">\n",
       "  <thead>\n",
       "    <tr style=\"text-align: right;\">\n",
       "      <th></th>\n",
       "      <th>CG</th>\n",
       "      <th>AM</th>\n",
       "      <th>ML_avg0</th>\n",
       "      <th>ML_avg1</th>\n",
       "    </tr>\n",
       "  </thead>\n",
       "  <tbody>\n",
       "    <tr>\n",
       "      <th>0</th>\n",
       "      <td>143.0</td>\n",
       "      <td>96.0</td>\n",
       "      <td>22.44898</td>\n",
       "      <td>22.31306</td>\n",
       "    </tr>\n",
       "    <tr>\n",
       "      <th>1</th>\n",
       "      <td>143.0</td>\n",
       "      <td>96.0</td>\n",
       "      <td>22.19144</td>\n",
       "      <td>22.06854</td>\n",
       "    </tr>\n",
       "    <tr>\n",
       "      <th>2</th>\n",
       "      <td>143.0</td>\n",
       "      <td>96.0</td>\n",
       "      <td>22.16266</td>\n",
       "      <td>21.80864</td>\n",
       "    </tr>\n",
       "    <tr>\n",
       "      <th>3</th>\n",
       "      <td>169.0</td>\n",
       "      <td>96.0</td>\n",
       "      <td>25.08116</td>\n",
       "      <td>24.92084</td>\n",
       "    </tr>\n",
       "    <tr>\n",
       "      <th>4</th>\n",
       "      <td>169.0</td>\n",
       "      <td>96.0</td>\n",
       "      <td>26.07010</td>\n",
       "      <td>25.85620</td>\n",
       "    </tr>\n",
       "  </tbody>\n",
       "</table>\n",
       "</div>"
      ],
      "text/plain": [
       "      CG    AM   ML_avg0   ML_avg1\n",
       "0  143.0  96.0  22.44898  22.31306\n",
       "1  143.0  96.0  22.19144  22.06854\n",
       "2  143.0  96.0  22.16266  21.80864\n",
       "3  169.0  96.0  25.08116  24.92084\n",
       "4  169.0  96.0  26.07010  25.85620"
      ]
     },
     "execution_count": 31,
     "metadata": {},
     "output_type": "execute_result"
    }
   ],
   "source": [
    "df_WMG.head()"
   ]
  },
  {
   "cell_type": "markdown",
   "id": "3283c19c",
   "metadata": {},
   "source": [
    "The LRCS has a lower resolution, but a larger set of parameters. To allow for abstraction we will narrow this sets. We perform the following operations:\n",
    "\n",
    "1. Since we have a single value of $AM$ in WMG, this parameter is not very informative. We drop it from WMG, and subselect for $AM=96.0$ in LRCS.\n",
    "2. We limit the values of $CG$ in LRCS to $\\{75,100,200\\}$.\n",
    "3. We try to extrapolate values for $CG$ at $\\{75,200\\}$ in WMG.\n",
    "4. We limit the values of $CG$ in WMG to $\\{75,110,150,170,180,200\\}$."
   ]
  },
  {
   "cell_type": "markdown",
   "id": "78c910d4",
   "metadata": {},
   "source": [
    "We remove $AM$."
   ]
  },
  {
   "cell_type": "code",
   "execution_count": 32,
   "id": "04b23e99",
   "metadata": {},
   "outputs": [],
   "source": [
    "df_WMG.drop(columns=['AM'],axis=1,inplace=True)"
   ]
  },
  {
   "cell_type": "code",
   "execution_count": 33,
   "id": "7f4f3ed6",
   "metadata": {},
   "outputs": [],
   "source": [
    "df_LRCS = df_LRCS[df_LRCS['Composition (A.M.%)']==96]\n",
    "df_LRCS.drop(columns=['Composition (A.M.%)'],axis=1,inplace=True)"
   ]
  },
  {
   "cell_type": "markdown",
   "id": "f55a959a",
   "metadata": {},
   "source": [
    "We subselect $CG$."
   ]
  },
  {
   "cell_type": "code",
   "execution_count": 34,
   "id": "dfec6e65",
   "metadata": {},
   "outputs": [],
   "source": [
    "cond = np.logical_and(df_LRCS['Comma gap (µm)']!=50, \n",
    "                      np.logical_and(df_LRCS['Comma gap (µm)']!=300,df_LRCS['Comma gap (µm)']!=400))\n",
    "df_LRCS = df_LRCS[cond]"
   ]
  },
  {
   "cell_type": "markdown",
   "id": "ddb9bff7",
   "metadata": {},
   "source": [
    "We prepare data to extrapolate."
   ]
  },
  {
   "cell_type": "code",
   "execution_count": 35,
   "id": "38bf95c7",
   "metadata": {},
   "outputs": [],
   "source": [
    "xs = np.array(list(df_WMG['CG'])*n_averaging_locations)\n",
    "xs = np.expand_dims(xs,axis=1)"
   ]
  },
  {
   "cell_type": "code",
   "execution_count": 36,
   "id": "b1c44db8",
   "metadata": {},
   "outputs": [],
   "source": [
    "ys = []\n",
    "for n in range(n_averaging_locations):\n",
    "    ys += list(df_WMG['ML_avg'+str(n)])\n",
    "ys = np.array(ys)"
   ]
  },
  {
   "cell_type": "markdown",
   "id": "741a520a",
   "metadata": {},
   "source": [
    "We look at the data"
   ]
  },
  {
   "cell_type": "code",
   "execution_count": 37,
   "id": "35cd4a8b",
   "metadata": {
    "scrolled": true
   },
   "outputs": [
    {
     "data": {
      "text/plain": [
       "<matplotlib.collections.PathCollection at 0x1464747f0>"
      ]
     },
     "execution_count": 37,
     "metadata": {},
     "output_type": "execute_result"
    },
    {
     "data": {
      "image/png": "[encoded data removed]",
      "text/plain": [
       "<Figure size 432x288 with 1 Axes>"
      ]
     },
     "metadata": {
      "needs_background": "light"
     },
     "output_type": "display_data"
    }
   ],
   "source": [
    "plt.scatter(xs,ys)"
   ]
  },
  {
   "cell_type": "code",
   "execution_count": 38,
   "id": "1fcdf218",
   "metadata": {},
   "outputs": [
    {
     "data": {
      "text/plain": [
       "562"
      ]
     },
     "execution_count": 38,
     "metadata": {},
     "output_type": "execute_result"
    }
   ],
   "source": [
    "len(xs)"
   ]
  },
  {
   "cell_type": "markdown",
   "id": "f1e1f00d",
   "metadata": {},
   "source": [
    "We remove a few outliers"
   ]
  },
  {
   "cell_type": "code",
   "execution_count": 39,
   "id": "ca4f8338",
   "metadata": {},
   "outputs": [
    {
     "data": {
      "text/plain": [
       "3"
      ]
     },
     "execution_count": 39,
     "metadata": {},
     "output_type": "execute_result"
    }
   ],
   "source": [
    "np.sum(ys<15)"
   ]
  },
  {
   "cell_type": "code",
   "execution_count": 40,
   "id": "35ce7bec",
   "metadata": {},
   "outputs": [],
   "source": [
    "xs = xs[ys>15]\n",
    "ys = ys[ys>15]"
   ]
  },
  {
   "cell_type": "markdown",
   "id": "c9eb7334",
   "metadata": {},
   "source": [
    "We define a GP with a linear kernel to extrapolate beyond the given domain"
   ]
  },
  {
   "cell_type": "raw",
   "id": "8183dcaf",
   "metadata": {},
   "source": [
    "model = LinR()\n",
    "model.fit(xs,ys)\n",
    "\n",
    "dom = np.arange(40,210,0.5)\n",
    "plt.plot(dom,model.predict(np.expand_dims(dom,axis=1)),c='red')\n",
    "plt.scatter(xs,ys)"
   ]
  },
  {
   "cell_type": "code",
   "execution_count": 41,
   "id": "0d91ffd2",
   "metadata": {},
   "outputs": [
    {
     "name": "stderr",
     "output_type": "stream",
     "text": [
      "/Users/fmzennaro/miniconda3/envs/causal/lib/python3.9/site-packages/sklearn/gaussian_process/_gpr.py:428: UserWarning: Predicted variances smaller than 0. Setting those variances to 0.\n",
      "  warnings.warn(\n"
     ]
    },
    {
     "data": {
      "image/png": "[encoded data removed]",
      "text/plain": [
       "<Figure size 720x576 with 2 Axes>"
      ]
     },
     "metadata": {
      "needs_background": "light"
     },
     "output_type": "display_data"
    }
   ],
   "source": [
    "def plot_gpr_samples(gpr_model, n_samples, ax):\n",
    "    \"\"\"Plot samples drawn from the Gaussian process model.\n",
    "\n",
    "    If the Gaussian process model is not trained then the drawn samples are\n",
    "    drawn from the prior distribution. Otherwise, the samples are drawn from\n",
    "    the posterior distribution. Be aware that a sample here corresponds to a\n",
    "    function.\n",
    "\n",
    "    Parameters\n",
    "    ----------\n",
    "    gpr_model : `GaussianProcessRegressor`\n",
    "        A :class:`~sklearn.gaussian_process.GaussianProcessRegressor` model.\n",
    "    n_samples : int\n",
    "        The number of samples to draw from the Gaussian process distribution.\n",
    "    ax : matplotlib axis\n",
    "        The matplotlib axis where to plot the samples.\n",
    "    \"\"\"\n",
    "    x = np.linspace(20, 220, 100)\n",
    "    X = x.reshape(-1, 1)\n",
    "\n",
    "    y_mean, y_std = gpr_model.predict(X, return_std=True)\n",
    "    y_samples = gpr_model.sample_y(X, n_samples)\n",
    "\n",
    "    for idx, single_prior in enumerate(y_samples.T):\n",
    "        ax.plot(\n",
    "            x,\n",
    "            single_prior,\n",
    "            linestyle=\"--\",\n",
    "            alpha=0.7,\n",
    "            label=f\"Sampled function #{idx + 1}\",\n",
    "        )\n",
    "    ax.plot(x, y_mean, color=\"black\", label=\"Mean\")\n",
    "    ax.fill_between(\n",
    "        x,\n",
    "        y_mean - y_std,\n",
    "        y_mean + y_std,\n",
    "        alpha=0.1,\n",
    "        color=\"black\",\n",
    "        label=r\"$\\pm$ 1 std. dev.\",\n",
    "    )\n",
    "    ax.set_xlabel(\"x\")\n",
    "    ax.set_ylabel(\"y\")\n",
    "    ax.set_ylim([10, 30])\n",
    "\n",
    "kernel = DotProduct()\n",
    "#kernel = 1.0 * RBF(length_scale=10.0)\n",
    "#kernel = 1.0 * Matern(length_scale=1.0, nu=3)\n",
    "#kernel = 10.0 * RationalQuadratic(length_scale=2.0, alpha=1.0)\n",
    "model = GPR(kernel=kernel,normalize_y=True,alpha=1e-8)\n",
    "fig, axs = plt.subplots(nrows=2, sharex=True, sharey=True, figsize=(10, 8))\n",
    "\n",
    "# plot prior\n",
    "plot_gpr_samples(model, n_samples=5, ax=axs[0])\n",
    "axs[0].set_title(\"Samples from prior distribution\")\n",
    "\n",
    "# plot posterior\n",
    "model.fit(xs,ys)\n",
    "plot_gpr_samples(model, n_samples=10, ax=axs[1])\n",
    "axs[1].scatter(xs[:, 0], ys, color=\"red\", zorder=10, label=\"Observations\")\n",
    "axs[1].legend(bbox_to_anchor=(1.05, 1.5), loc=\"upper left\")\n",
    "axs[1].set_title(\"Samples from posterior distribution\")\n",
    "\n",
    "fig.suptitle(\"Radial Basis Function kernel\", fontsize=18)\n",
    "plt.tight_layout()"
   ]
  },
  {
   "cell_type": "code",
   "execution_count": 42,
   "id": "49298289",
   "metadata": {},
   "outputs": [
    {
     "data": {
      "text/plain": [
       "281"
      ]
     },
     "execution_count": 42,
     "metadata": {},
     "output_type": "execute_result"
    }
   ],
   "source": [
    "len(df_WMG)"
   ]
  },
  {
   "cell_type": "markdown",
   "id": "bd19bf38",
   "metadata": {},
   "source": [
    "We add to the WMG data 20 datapoints for $CG=\\{50,200\\}$ each."
   ]
  },
  {
   "cell_type": "code",
   "execution_count": 43,
   "id": "282d5778",
   "metadata": {},
   "outputs": [],
   "source": [
    "extrap_cgs = [75,200]\n",
    "n_extrap_points = 20\n",
    "\n",
    "extrap_data = {\n",
    "    'CG': [],\n",
    "}\n",
    "for n in range(n_averaging_locations):\n",
    "    extrap_data['ML_avg'+str(n)] = []\n",
    "\n",
    "for cg in extrap_cgs: \n",
    "    extrap_data['CG'] += [cg]*n_extrap_points\n",
    "    for n in range(n_averaging_locations):\n",
    "        extrap_data['ML_avg'+str(n)] += list(model.sample_y(np.array([[cg]]),n_samples=n_extrap_points,random_state=n)[0])\n",
    "\n",
    "df_extrap = pd.DataFrame(data=extrap_data)"
   ]
  },
  {
   "cell_type": "code",
   "execution_count": 44,
   "id": "3462a4f9",
   "metadata": {},
   "outputs": [
    {
     "data": {
      "text/html": [
       "<div>\n",
       "<style scoped>\n",
       "    .dataframe tbody tr th:only-of-type {\n",
       "        vertical-align: middle;\n",
       "    }\n",
       "\n",
       "    .dataframe tbody tr th {\n",
       "        vertical-align: top;\n",
       "    }\n",
       "\n",
       "    .dataframe thead th {\n",
       "        text-align: right;\n",
       "    }\n",
       "</style>\n",
       "<table border=\"1\" class=\"dataframe\">\n",
       "  <thead>\n",
       "    <tr style=\"text-align: right;\">\n",
       "      <th></th>\n",
       "      <th>CG</th>\n",
       "      <th>ML_avg0</th>\n",
       "      <th>ML_avg1</th>\n",
       "    </tr>\n",
       "  </thead>\n",
       "  <tbody>\n",
       "    <tr>\n",
       "      <th>271</th>\n",
       "      <td>180.0</td>\n",
       "      <td>23.80490</td>\n",
       "      <td>24.24394</td>\n",
       "    </tr>\n",
       "    <tr>\n",
       "      <th>272</th>\n",
       "      <td>180.0</td>\n",
       "      <td>25.32966</td>\n",
       "      <td>24.94768</td>\n",
       "    </tr>\n",
       "    <tr>\n",
       "      <th>273</th>\n",
       "      <td>180.0</td>\n",
       "      <td>25.17050</td>\n",
       "      <td>24.66448</td>\n",
       "    </tr>\n",
       "    <tr>\n",
       "      <th>274</th>\n",
       "      <td>182.0</td>\n",
       "      <td>24.82478</td>\n",
       "      <td>25.02512</td>\n",
       "    </tr>\n",
       "    <tr>\n",
       "      <th>275</th>\n",
       "      <td>182.0</td>\n",
       "      <td>24.64324</td>\n",
       "      <td>24.59812</td>\n",
       "    </tr>\n",
       "    <tr>\n",
       "      <th>276</th>\n",
       "      <td>182.0</td>\n",
       "      <td>24.70754</td>\n",
       "      <td>24.24422</td>\n",
       "    </tr>\n",
       "    <tr>\n",
       "      <th>277</th>\n",
       "      <td>182.0</td>\n",
       "      <td>25.86620</td>\n",
       "      <td>24.00474</td>\n",
       "    </tr>\n",
       "    <tr>\n",
       "      <th>278</th>\n",
       "      <td>182.0</td>\n",
       "      <td>24.64712</td>\n",
       "      <td>24.14018</td>\n",
       "    </tr>\n",
       "    <tr>\n",
       "      <th>279</th>\n",
       "      <td>182.0</td>\n",
       "      <td>24.82550</td>\n",
       "      <td>24.62126</td>\n",
       "    </tr>\n",
       "  </tbody>\n",
       "</table>\n",
       "</div>"
      ],
      "text/plain": [
       "        CG   ML_avg0   ML_avg1\n",
       "271  180.0  23.80490  24.24394\n",
       "272  180.0  25.32966  24.94768\n",
       "273  180.0  25.17050  24.66448\n",
       "274  182.0  24.82478  25.02512\n",
       "275  182.0  24.64324  24.59812\n",
       "276  182.0  24.70754  24.24422\n",
       "277  182.0  25.86620  24.00474\n",
       "278  182.0  24.64712  24.14018\n",
       "279  182.0  24.82550  24.62126"
      ]
     },
     "execution_count": 44,
     "metadata": {},
     "output_type": "execute_result"
    }
   ],
   "source": [
    "df_WMG.iloc[-10:-1,:]"
   ]
  },
  {
   "cell_type": "code",
   "execution_count": 45,
   "id": "a766f3b4",
   "metadata": {},
   "outputs": [
    {
     "data": {
      "text/plain": [
       "321"
      ]
     },
     "execution_count": 45,
     "metadata": {},
     "output_type": "execute_result"
    }
   ],
   "source": [
    "df_WMG = pd.concat([df_WMG,df_extrap],ignore_index=True)\n",
    "len(df_WMG)"
   ]
  },
  {
   "cell_type": "markdown",
   "id": "40d39086",
   "metadata": {},
   "source": [
    "We subselect $CG$."
   ]
  },
  {
   "cell_type": "code",
   "execution_count": 46,
   "id": "f4f8ae52",
   "metadata": {},
   "outputs": [
    {
     "data": {
      "text/plain": [
       "array([ 75.  , 106.25, 108.56, 143.  , 147.  , 150.  , 151.04, 165.  ,\n",
       "       169.  , 180.  , 181.76, 182.  , 200.  ])"
      ]
     },
     "execution_count": 46,
     "metadata": {},
     "output_type": "execute_result"
    }
   ],
   "source": [
    "np.sort(df_WMG['CG'].unique())"
   ]
  },
  {
   "cell_type": "code",
   "execution_count": 47,
   "id": "51e48104",
   "metadata": {},
   "outputs": [],
   "source": [
    "df_WMG['CG'][df_WMG['CG']==106.25] = 110\n",
    "df_WMG['CG'][df_WMG['CG']==108.56] = 110\n",
    "df_WMG['CG'][df_WMG['CG']==147] = 150\n",
    "df_WMG['CG'][df_WMG['CG']==151.04] = 150\n",
    "df_WMG['CG'][df_WMG['CG']==169] = 170\n",
    "df_WMG['CG'][df_WMG['CG']==181.76] = 180\n",
    "df_WMG['CG'][df_WMG['CG']==182] = 180"
   ]
  },
  {
   "cell_type": "code",
   "execution_count": 48,
   "id": "69247a2a",
   "metadata": {},
   "outputs": [
    {
     "data": {
      "text/plain": [
       "array([ 75., 110., 143., 150., 165., 170., 180., 200.])"
      ]
     },
     "execution_count": 48,
     "metadata": {},
     "output_type": "execute_result"
    }
   ],
   "source": [
    "np.sort(df_WMG['CG'].unique())"
   ]
  },
  {
   "cell_type": "code",
   "execution_count": 49,
   "id": "48d6a802",
   "metadata": {},
   "outputs": [
    {
     "data": {
      "text/plain": [
       "239"
      ]
     },
     "execution_count": 49,
     "metadata": {},
     "output_type": "execute_result"
    }
   ],
   "source": [
    "cond = np.logical_or(df_WMG['CG']==75, \n",
    "                     np.logical_or(df_WMG['CG']==110,\n",
    "                                  np.logical_or(df_WMG['CG']==150,\n",
    "                                               np.logical_or(df_WMG['CG']==170,\n",
    "                                                            np.logical_or(df_WMG['CG']==180,df_WMG['CG']==200)))))                     \n",
    "df_WMG = df_WMG[cond]\n",
    "len(df_WMG)"
   ]
  },
  {
   "cell_type": "markdown",
   "id": "118a183f",
   "metadata": {},
   "source": [
    "Finally, we discretize."
   ]
  },
  {
   "cell_type": "code",
   "execution_count": 50,
   "id": "45b28ed4",
   "metadata": {},
   "outputs": [
    {
     "name": "stdout",
     "output_type": "stream",
     "text": [
      "9.75714407876113 29.7724497783002\n"
     ]
    }
   ],
   "source": [
    "print(df_LRCS['Mass Loading (mg cm-2) '].min(),df_LRCS['Mass Loading (mg cm-2) '].max())"
   ]
  },
  {
   "cell_type": "code",
   "execution_count": 51,
   "id": "f98dbfa6",
   "metadata": {},
   "outputs": [
    {
     "name": "stdout",
     "output_type": "stream",
     "text": [
      "4.897140000000001 27.03603756724987\n"
     ]
    }
   ],
   "source": [
    "print(df_WMG.iloc[:,2:].min().min(),df_WMG.iloc[:,2:].max().max())"
   ]
  },
  {
   "cell_type": "code",
   "execution_count": 52,
   "id": "eb2d2272",
   "metadata": {},
   "outputs": [],
   "source": [
    "ys = list(df_LRCS['Mass Loading (mg cm-2) '])\n",
    "for n in range(n_averaging_locations):\n",
    "    ys += list(df_WMG['ML_avg'+str(n)])\n",
    "ys = np.array(ys)"
   ]
  },
  {
   "cell_type": "code",
   "execution_count": 53,
   "id": "91b6017e",
   "metadata": {},
   "outputs": [
    {
     "data": {
      "image/png": "[encoded data removed]",
      "text/plain": [
       "<Figure size 432x288 with 1 Axes>"
      ]
     },
     "metadata": {
      "needs_background": "light"
     },
     "output_type": "display_data"
    }
   ],
   "source": [
    "n_bins = 5\n",
    "_,bins,_ = plt.hist(ys,bins=n_bins)"
   ]
  },
  {
   "cell_type": "code",
   "execution_count": 54,
   "id": "c9044da2",
   "metadata": {},
   "outputs": [],
   "source": [
    "bins[0] -= 0.1; bins[-1] += 0.1"
   ]
  },
  {
   "cell_type": "code",
   "execution_count": 55,
   "id": "c9bd12ef",
   "metadata": {},
   "outputs": [],
   "source": [
    "df_LRCS['binned ML'] = pd.cut(df_LRCS['Mass Loading (mg cm-2) '], bins=bins, labels=np.arange(len(bins)-1))"
   ]
  },
  {
   "cell_type": "code",
   "execution_count": 56,
   "id": "7a297e4f",
   "metadata": {},
   "outputs": [],
   "source": [
    "for n in range(n_averaging_locations):\n",
    "    df_WMG['binned ML_avg'+str(n)] = pd.cut(df_WMG['ML_avg'+str(n)], bins=bins, labels=np.arange(len(bins)-1))\n",
    "    "
   ]
  },
  {
   "cell_type": "code",
   "execution_count": 57,
   "id": "d225855f",
   "metadata": {},
   "outputs": [
    {
     "data": {
      "text/html": [
       "<div>\n",
       "<style scoped>\n",
       "    .dataframe tbody tr th:only-of-type {\n",
       "        vertical-align: middle;\n",
       "    }\n",
       "\n",
       "    .dataframe tbody tr th {\n",
       "        vertical-align: top;\n",
       "    }\n",
       "\n",
       "    .dataframe thead th {\n",
       "        text-align: right;\n",
       "    }\n",
       "</style>\n",
       "<table border=\"1\" class=\"dataframe\">\n",
       "  <thead>\n",
       "    <tr style=\"text-align: right;\">\n",
       "      <th></th>\n",
       "      <th>CG</th>\n",
       "      <th>ML_avg0</th>\n",
       "      <th>ML_avg1</th>\n",
       "      <th>binned ML_avg0</th>\n",
       "      <th>binned ML_avg1</th>\n",
       "    </tr>\n",
       "  </thead>\n",
       "  <tbody>\n",
       "    <tr>\n",
       "      <th>3</th>\n",
       "      <td>170.0</td>\n",
       "      <td>25.081160</td>\n",
       "      <td>24.920840</td>\n",
       "      <td>4</td>\n",
       "      <td>4</td>\n",
       "    </tr>\n",
       "    <tr>\n",
       "      <th>4</th>\n",
       "      <td>170.0</td>\n",
       "      <td>26.070100</td>\n",
       "      <td>25.856200</td>\n",
       "      <td>4</td>\n",
       "      <td>4</td>\n",
       "    </tr>\n",
       "    <tr>\n",
       "      <th>5</th>\n",
       "      <td>170.0</td>\n",
       "      <td>25.179620</td>\n",
       "      <td>24.823320</td>\n",
       "      <td>4</td>\n",
       "      <td>4</td>\n",
       "    </tr>\n",
       "    <tr>\n",
       "      <th>6</th>\n",
       "      <td>170.0</td>\n",
       "      <td>25.314200</td>\n",
       "      <td>25.295920</td>\n",
       "      <td>4</td>\n",
       "      <td>4</td>\n",
       "    </tr>\n",
       "    <tr>\n",
       "      <th>7</th>\n",
       "      <td>170.0</td>\n",
       "      <td>24.634940</td>\n",
       "      <td>19.529240</td>\n",
       "      <td>3</td>\n",
       "      <td>2</td>\n",
       "    </tr>\n",
       "    <tr>\n",
       "      <th>...</th>\n",
       "      <td>...</td>\n",
       "      <td>...</td>\n",
       "      <td>...</td>\n",
       "      <td>...</td>\n",
       "      <td>...</td>\n",
       "    </tr>\n",
       "    <tr>\n",
       "      <th>316</th>\n",
       "      <td>200.0</td>\n",
       "      <td>27.036001</td>\n",
       "      <td>27.035964</td>\n",
       "      <td>4</td>\n",
       "      <td>4</td>\n",
       "    </tr>\n",
       "    <tr>\n",
       "      <th>317</th>\n",
       "      <td>200.0</td>\n",
       "      <td>27.036031</td>\n",
       "      <td>27.035988</td>\n",
       "      <td>4</td>\n",
       "      <td>4</td>\n",
       "    </tr>\n",
       "    <tr>\n",
       "      <th>318</th>\n",
       "      <td>200.0</td>\n",
       "      <td>27.035987</td>\n",
       "      <td>27.035970</td>\n",
       "      <td>4</td>\n",
       "      <td>4</td>\n",
       "    </tr>\n",
       "    <tr>\n",
       "      <th>319</th>\n",
       "      <td>200.0</td>\n",
       "      <td>27.036001</td>\n",
       "      <td>27.035994</td>\n",
       "      <td>4</td>\n",
       "      <td>4</td>\n",
       "    </tr>\n",
       "    <tr>\n",
       "      <th>320</th>\n",
       "      <td>200.0</td>\n",
       "      <td>27.035970</td>\n",
       "      <td>27.036008</td>\n",
       "      <td>4</td>\n",
       "      <td>4</td>\n",
       "    </tr>\n",
       "  </tbody>\n",
       "</table>\n",
       "<p>239 rows × 5 columns</p>\n",
       "</div>"
      ],
      "text/plain": [
       "        CG    ML_avg0    ML_avg1 binned ML_avg0 binned ML_avg1\n",
       "3    170.0  25.081160  24.920840              4              4\n",
       "4    170.0  26.070100  25.856200              4              4\n",
       "5    170.0  25.179620  24.823320              4              4\n",
       "6    170.0  25.314200  25.295920              4              4\n",
       "7    170.0  24.634940  19.529240              3              2\n",
       "..     ...        ...        ...            ...            ...\n",
       "316  200.0  27.036001  27.035964              4              4\n",
       "317  200.0  27.036031  27.035988              4              4\n",
       "318  200.0  27.035987  27.035970              4              4\n",
       "319  200.0  27.036001  27.035994              4              4\n",
       "320  200.0  27.035970  27.036008              4              4\n",
       "\n",
       "[239 rows x 5 columns]"
      ]
     },
     "execution_count": 57,
     "metadata": {},
     "output_type": "execute_result"
    }
   ],
   "source": [
    "df_WMG"
   ]
  },
  {
   "cell_type": "markdown",
   "id": "01864a83",
   "metadata": {},
   "source": [
    "## Defining the SCM for the LRCS data "
   ]
  },
  {
   "cell_type": "markdown",
   "id": "00ca7d83",
   "metadata": {},
   "source": [
    "For the LRCS data we assume a SCM made up of two variables, $CG, ML$ representing comma gap and mass loading. Their cardinalities are:\n",
    "\n",
    "- $|CG| = 3$\n",
    "- $|ML| = \\textrm{n_bins}$"
   ]
  },
  {
   "cell_type": "code",
   "execution_count": 58,
   "id": "86526b36",
   "metadata": {},
   "outputs": [
    {
     "data": {
      "text/html": [
       "<div>\n",
       "<style scoped>\n",
       "    .dataframe tbody tr th:only-of-type {\n",
       "        vertical-align: middle;\n",
       "    }\n",
       "\n",
       "    .dataframe tbody tr th {\n",
       "        vertical-align: top;\n",
       "    }\n",
       "\n",
       "    .dataframe thead th {\n",
       "        text-align: right;\n",
       "    }\n",
       "</style>\n",
       "<table border=\"1\" class=\"dataframe\">\n",
       "  <thead>\n",
       "    <tr style=\"text-align: right;\">\n",
       "      <th></th>\n",
       "      <th>Comma gap (µm)</th>\n",
       "      <th>Mass Loading (mg cm-2)</th>\n",
       "      <th>binned ML</th>\n",
       "    </tr>\n",
       "  </thead>\n",
       "  <tbody>\n",
       "    <tr>\n",
       "      <th>8</th>\n",
       "      <td>200</td>\n",
       "      <td>27.361725</td>\n",
       "      <td>4</td>\n",
       "    </tr>\n",
       "    <tr>\n",
       "      <th>9</th>\n",
       "      <td>200</td>\n",
       "      <td>29.772450</td>\n",
       "      <td>4</td>\n",
       "    </tr>\n",
       "    <tr>\n",
       "      <th>10</th>\n",
       "      <td>200</td>\n",
       "      <td>27.290821</td>\n",
       "      <td>4</td>\n",
       "    </tr>\n",
       "    <tr>\n",
       "      <th>11</th>\n",
       "      <td>200</td>\n",
       "      <td>27.858051</td>\n",
       "      <td>4</td>\n",
       "    </tr>\n",
       "    <tr>\n",
       "      <th>12</th>\n",
       "      <td>200</td>\n",
       "      <td>26.936303</td>\n",
       "      <td>4</td>\n",
       "    </tr>\n",
       "  </tbody>\n",
       "</table>\n",
       "</div>"
      ],
      "text/plain": [
       "    Comma gap (µm)  Mass Loading (mg cm-2)  binned ML\n",
       "8              200                27.361725         4\n",
       "9              200                29.772450         4\n",
       "10             200                27.290821         4\n",
       "11             200                27.858051         4\n",
       "12             200                26.936303         4"
      ]
     },
     "execution_count": 58,
     "metadata": {},
     "output_type": "execute_result"
    }
   ],
   "source": [
    "df_LRCS.head()"
   ]
  },
  {
   "cell_type": "code",
   "execution_count": 59,
   "id": "17c0c186",
   "metadata": {},
   "outputs": [],
   "source": [
    "n_CG_LRCS = len(df_LRCS['Comma gap (µm)'].unique())\n",
    "n_ML_LRCS = n_bins\n",
    "dom_CG_LRCS = [75,100,200]\n",
    "dom_ML_LRCS = np.arange(n_ML_LRCS)"
   ]
  },
  {
   "cell_type": "markdown",
   "id": "2b434eca",
   "metadata": {},
   "source": [
    "Next, we need to define a mechanism $\\mu: CG \\rightarrow ML$ in the form of a stochastic matrix of shape $\\textrm{n_bins} \\times 4$. We postpone defining the mechanism until we assess the alignment of the models later."
   ]
  },
  {
   "cell_type": "code",
   "execution_count": 60,
   "id": "14219cb9",
   "metadata": {},
   "outputs": [],
   "source": [
    "mu = np.zeros((n_ML_LRCS, n_CG_LRCS))\n",
    "\n",
    "c = 0\n",
    "for j in dom_CG_LRCS:\n",
    "    query = df_LRCS['binned ML'][df_LRCS['Comma gap (µm)']==j]\n",
    "    column = query.value_counts(normalize=True,sort=False,ascending=True)\n",
    "    mu[:,c] = column\n",
    "    c += 1     "
   ]
  },
  {
   "cell_type": "code",
   "execution_count": 61,
   "id": "b9ca5486",
   "metadata": {},
   "outputs": [
    {
     "data": {
      "text/plain": [
       "array([[0.125     , 0.        , 0.        ],\n",
       "       [0.875     , 0.        , 0.        ],\n",
       "       [0.        , 1.        , 0.        ],\n",
       "       [0.        , 0.        , 0.04166667],\n",
       "       [0.        , 0.        , 0.95833333]])"
      ]
     },
     "execution_count": 61,
     "metadata": {},
     "output_type": "execute_result"
    }
   ],
   "source": [
    "mu"
   ]
  },
  {
   "cell_type": "markdown",
   "id": "a9f975c7",
   "metadata": {},
   "source": [
    "### Creating a pgmpy object\n",
    "\n",
    "Having defined our SCM data, we can now pack it in a standard *pgmpy* object that we will use to learn an abstraction."
   ]
  },
  {
   "cell_type": "code",
   "execution_count": 62,
   "id": "49eba543",
   "metadata": {},
   "outputs": [
    {
     "data": {
      "text/plain": [
       "True"
      ]
     },
     "execution_count": 62,
     "metadata": {},
     "output_type": "execute_result"
    }
   ],
   "source": [
    "M1 = BN([('CG','ML')])\n",
    "\n",
    "cpdCG = cpd(variable='CG',\n",
    "          variable_card=n_CG_LRCS,\n",
    "          values=np.ones((n_CG_LRCS,1))/n_CG_LRCS,\n",
    "          evidence=None,\n",
    "          evidence_card=None)\n",
    "cpdML = cpd(variable='ML',\n",
    "          variable_card=n_ML_LRCS,\n",
    "          values=mu,\n",
    "          evidence=['CG'],\n",
    "          evidence_card=[n_CG_LRCS])\n",
    "\n",
    "M1.add_cpds(cpdCG,cpdML)\n",
    "M1.check_model()"
   ]
  },
  {
   "cell_type": "markdown",
   "id": "eebae8cd",
   "metadata": {},
   "source": [
    "A couple of observations: (i) we named this object $M1$ because it will be the high-level model; (ii) we defined the distributions $P(AM)$ and $P(CG)$ as uniform, as they will have no effect on the learning of the abstraction."
   ]
  },
  {
   "cell_type": "markdown",
   "id": "85531dcf",
   "metadata": {},
   "source": [
    "## Defining the SCM for the WMG data "
   ]
  },
  {
   "cell_type": "markdown",
   "id": "3c67780e",
   "metadata": {},
   "source": [
    "For the WMG data we assume a SCM made up of $1 + i$ variables, $CG, ML_i$, similar to the LRCS model, but splitting the ML variables into $i$ variables representing recording at different spatial locations. Their cardinalities are:\n",
    "- $|CG| = 6$\n",
    "- $|ML_i| = 5$"
   ]
  },
  {
   "cell_type": "code",
   "execution_count": 63,
   "id": "826214dd",
   "metadata": {},
   "outputs": [],
   "source": [
    "n_CG_WMG = len(df_WMG['CG'].unique())\n",
    "n_ML_WMG = n_ML_LRCS\n",
    "dom_CG_WMG = [75,110,150,170,180,200]\n",
    "dom_ML_WMG = dom_ML_LRCS"
   ]
  },
  {
   "cell_type": "markdown",
   "id": "1be44acf",
   "metadata": {},
   "source": [
    "Next, we need to define a mechanism $\\nu_i: CG \\rightarrow ML_i$ in the form of a stochastic matrix of shape $\\textrm{n_bins}^{\\textrm{n_avg_points}} \\times 6$."
   ]
  },
  {
   "cell_type": "code",
   "execution_count": 64,
   "id": "049989a5",
   "metadata": {},
   "outputs": [],
   "source": [
    "nus = []\n",
    "\n",
    "for n in range(n_averaging_locations):\n",
    "    nu = np.zeros((n_ML_WMG, n_CG_WMG))\n",
    "    c = 0\n",
    "    for j in dom_CG_WMG:\n",
    "        query = df_WMG[['binned ML_avg'+str(n)]][(df_WMG['CG']==j)]\n",
    "        column = query.value_counts(normalize=True,sort=False,ascending=True)\n",
    "        nu[:,c] = column\n",
    "        c += 1\n",
    "    nus.append(nu)"
   ]
  },
  {
   "cell_type": "code",
   "execution_count": 65,
   "id": "8dd4595f",
   "metadata": {},
   "outputs": [
    {
     "data": {
      "text/plain": [
       "array([[0.        , 0.        , 0.        , 0.        , 0.        ,\n",
       "        0.        ],\n",
       "       [0.        , 0.        , 0.        , 0.        , 0.        ,\n",
       "        0.        ],\n",
       "       [1.        , 1.        , 0.00704225, 0.        , 0.        ,\n",
       "        0.        ],\n",
       "       [0.        , 0.        , 0.99295775, 0.125     , 0.69230769,\n",
       "        0.        ],\n",
       "       [0.        , 0.        , 0.        , 0.875     , 0.30769231,\n",
       "        1.        ]])"
      ]
     },
     "execution_count": 65,
     "metadata": {},
     "output_type": "execute_result"
    }
   ],
   "source": [
    "nus[0]"
   ]
  },
  {
   "cell_type": "code",
   "execution_count": 66,
   "id": "6f76cd46",
   "metadata": {},
   "outputs": [
    {
     "data": {
      "text/plain": [
       "array([[0.        , 0.        , 0.01408451, 0.        , 0.        ,\n",
       "        0.        ],\n",
       "       [0.        , 0.        , 0.        , 0.        , 0.        ,\n",
       "        0.        ],\n",
       "       [1.        , 1.        , 0.        , 0.125     , 0.        ,\n",
       "        0.        ],\n",
       "       [0.        , 0.        , 0.98591549, 0.375     , 0.74358974,\n",
       "        0.        ],\n",
       "       [0.        , 0.        , 0.        , 0.5       , 0.25641026,\n",
       "        1.        ]])"
      ]
     },
     "execution_count": 66,
     "metadata": {},
     "output_type": "execute_result"
    }
   ],
   "source": [
    "nus[1]"
   ]
  },
  {
   "cell_type": "markdown",
   "id": "ba16202f",
   "metadata": {},
   "source": [
    "### Creating a pgmpy object\n",
    "\n",
    "Having defined our SCM data, we can now pack it in a standard *pgmpy* object that we will use to learn an abstraction."
   ]
  },
  {
   "cell_type": "code",
   "execution_count": 67,
   "id": "d38abe21",
   "metadata": {},
   "outputs": [
    {
     "data": {
      "text/plain": [
       "True"
      ]
     },
     "execution_count": 67,
     "metadata": {},
     "output_type": "execute_result"
    }
   ],
   "source": [
    "M0 = BN()\n",
    "M0.add_node('CG')\n",
    "\n",
    "cpdCG = cpd(variable='CG',\n",
    "          variable_card=n_CG_WMG,\n",
    "          values=np.ones((n_CG_WMG,1))/n_CG_WMG,\n",
    "          evidence=None,\n",
    "          evidence_card=None)\n",
    "M0.add_cpds(cpdCG)\n",
    "\n",
    "for n in range(n_averaging_locations):\n",
    "    M0.add_edge('CG','ML'+str(n))\n",
    "    cpdML = cpd(variable='ML'+str(n),\n",
    "              variable_card=n_ML_WMG,\n",
    "              values=nus[n],\n",
    "              evidence=['CG'],\n",
    "              evidence_card=[n_CG_WMG])\n",
    "    M0.add_cpds(cpdML)\n",
    "\n",
    "M0.check_model()"
   ]
  },
  {
   "cell_type": "markdown",
   "id": "de38bebb",
   "metadata": {},
   "source": [
    "A couple of observations: (i) we named this object $M0$ because it will be the high-level model; (ii) we defined the distributions $P(AM)$ and $P(CG)$ as uniform, as they will have no effect on the learning of the abstraction."
   ]
  },
  {
   "cell_type": "markdown",
   "id": "e328f4a1",
   "metadata": {},
   "source": [
    "# Persistence\n",
    "\n",
    "We store all the objects we have produced."
   ]
  },
  {
   "cell_type": "code",
   "execution_count": 68,
   "id": "97699322",
   "metadata": {},
   "outputs": [
    {
     "data": {
      "text/plain": [
       "['data/batteries/scms/M_WMG_bins_5_avg_2.pkl']"
      ]
     },
     "execution_count": 68,
     "metadata": {},
     "output_type": "execute_result"
    }
   ],
   "source": [
    "joblib.dump(df_LRCS,'data/batteries/dfs/df_LRCS_bins_'+str(n_bins)+'.pkl')\n",
    "joblib.dump(df_WMG,'data/batteries/dfs/df_WMG_bins_'+str(n_bins)+'_avg_'+str(n_averaging_locations)+'.pkl')\n",
    "joblib.dump(M1,'data/batteries/scms/M_LRCS_bins_'+str(n_bins)+'.pkl')\n",
    "joblib.dump(M0,'data/batteries/scms/M_WMG_bins_'+str(n_bins)+'_avg_'+str(n_averaging_locations)+'.pkl')"
   ]
  },
  {
   "cell_type": "code",
   "execution_count": null,
   "id": "9150ca09",
   "metadata": {},
   "outputs": [],
   "source": []
  }
 ],
 "metadata": {
  "kernelspec": {
   "display_name": "Python 3 (ipykernel)",
   "language": "python",
   "name": "python3"
  },
  "language_info": {
   "codemirror_mode": {
    "name": "ipython",
    "version": 3
   },
   "file_extension": ".py",
   "mimetype": "text/x-python",
   "name": "python",
   "nbconvert_exporter": "python",
   "pygments_lexer": "ipython3",
   "version": "3.9.10"
  },
  "toc": {
   "base_numbering": 1,
   "nav_menu": {},
   "number_sections": true,
   "sideBar": true,
   "skip_h1_title": false,
   "title_cell": "Table of Contents",
   "title_sidebar": "Contents",
   "toc_cell": false,
   "toc_position": {
    "height": "calc(100% - 180px)",
    "left": "10px",
    "top": "150px",
    "width": "274.908px"
   },
   "toc_section_display": true,
   "toc_window_display": true
  }
 },
 "nbformat": 4,
 "nbformat_minor": 5
}
