{
 "cells": [
  {
   "cell_type": "code",
   "execution_count": 1,
   "id": "1fd8da69",
   "metadata": {},
   "outputs": [],
   "source": [
    "import numpy as np\n",
    "import torch\n",
    "import matplotlib\n",
    "import matplotlib.pyplot as plt\n",
    "from itertools import product"
   ]
  },
  {
   "cell_type": "code",
   "execution_count": 2,
   "id": "658a8c28",
   "metadata": {},
   "outputs": [],
   "source": [
    "\n",
    "extended_alphas = {'Smoking_': np.array([[1, 0, 0, 0],\n",
    "        [0, 1, 0, 0],\n",
    "        [0, 0, 1, 1]]),\n",
    " 'Tar_': np.array([[1, 1, 0],\n",
    "        [0, 0, 1]]),\n",
    " 'Cancer_': np.array([[1, 0],\n",
    "        [0, 1]])}"
   ]
  },
  {
   "cell_type": "code",
   "execution_count": 3,
   "id": "93333bde",
   "metadata": {},
   "outputs": [],
   "source": [
    "\n",
    "def avg_distance(results):\n",
    "    dis = 0.0\n",
    "    n = len(results)\n",
    "    for i in range(n):\n",
    "        dis += results[i]['distance'].item()\n",
    "    return dis/n\n"
   ]
  },
  {
   "cell_type": "code",
   "execution_count": 4,
   "id": "af670405",
   "metadata": {},
   "outputs": [],
   "source": [
    "Ts = [0.01, 0.05, 0.1, 0.5, 1.0]\n",
    "lmbdas = [1.0, 5.0, 10.0, 20.0, 50.0]\n",
    "prod = list(product(Ts,lmbdas))\n",
    "x = np.array([0,1,2,3,4])\n",
    "mat = np.zeros((25))\n"
   ]
  },
  {
   "cell_type": "code",
   "execution_count": 5,
   "id": "4fffa6cd",
   "metadata": {},
   "outputs": [],
   "source": [
    "count = 0\n",
    "for T, lmbda in prod:\n",
    "    results = np.load(f'./results/synthetic/d/avg-best-endresults-app3-t{str(T)}-l{str(lmbda)}-extended.npy', allow_pickle=True)\n",
    "    mat[count] = avg_distance(results)\n",
    "    count += 1\n"
   ]
  },
  {
   "cell_type": "code",
   "execution_count": 6,
   "id": "4ec3bbf9",
   "metadata": {},
   "outputs": [
    {
     "data": {
      "image/png": "[encoded data removed]",
      "text/plain": [
       "<Figure size 288x288 with 2 Axes>"
      ]
     },
     "metadata": {
      "needs_background": "light"
     },
     "output_type": "display_data"
    }
   ],
   "source": [
    "mats = mat.reshape((5,5))\n",
    "\n",
    "plt.matshow(mats, cmap='Reds')\n",
    "plt.yticks(x,Ts)\n",
    "plt.ylabel('T')\n",
    "plt.title('$\\lambda$')\n",
    "plt.xticks(x,lmbdas)\n",
    "\n",
    "plt.colorbar()\n",
    "plt.show()\n"
   ]
  },
  {
   "cell_type": "code",
   "execution_count": null,
   "id": "a1946754",
   "metadata": {},
   "outputs": [],
   "source": []
  }
 ],
 "metadata": {
  "kernelspec": {
   "display_name": "Python 3 (ipykernel)",
   "language": "python",
   "name": "python3"
  },
  "language_info": {
   "codemirror_mode": {
    "name": "ipython",
    "version": 3
   },
   "file_extension": ".py",
   "mimetype": "text/x-python",
   "name": "python",
   "nbconvert_exporter": "python",
   "pygments_lexer": "ipython3",
   "version": "3.9.7"
  }
 },
 "nbformat": 4,
 "nbformat_minor": 5
}
