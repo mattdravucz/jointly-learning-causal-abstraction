{
 "cells": [
  {
   "cell_type": "markdown",
   "id": "5ef4c27a",
   "metadata": {},
   "source": [
    "# Real-world data experiment"
   ]
  },
  {
   "cell_type": "code",
   "execution_count": 1,
   "id": "28dd71c1",
   "metadata": {},
   "outputs": [],
   "source": [
    "import numpy as np\n",
    "import pandas as pd\n",
    "import seaborn as sns\n",
    "import matplotlib.pyplot as plt\n",
    "import joblib\n",
    "\n",
    "from sklearn.linear_model import Lasso,LinearRegression"
   ]
  },
  {
   "cell_type": "code",
   "execution_count": 2,
   "id": "fe40d658",
   "metadata": {},
   "outputs": [],
   "source": [
    "np.random.seed(0)"
   ]
  },
  {
   "cell_type": "markdown",
   "id": "4bbbd2e6",
   "metadata": {},
   "source": [
    "# Loading data"
   ]
  },
  {
   "cell_type": "code",
   "execution_count": 3,
   "id": "670e315d",
   "metadata": {},
   "outputs": [],
   "source": [
    "n_averaging_locations = 2\n",
    "n_bins = 5"
   ]
  },
  {
   "cell_type": "code",
   "execution_count": 4,
   "id": "ea92dee7",
   "metadata": {},
   "outputs": [],
   "source": [
    "df_LRCS = joblib.load('data/batteries/dfs/df_LRCS_bins_'+str(n_bins)+'.pkl')\n",
    "df_LRCSWMG = joblib.load('data/batteries/dfs/df_LRCSWMG_20221026_21457_17512.pkl')"
   ]
  },
  {
   "cell_type": "code",
   "execution_count": 5,
   "id": "f2497188",
   "metadata": {},
   "outputs": [],
   "source": [
    "n_CG_LRCS = len(df_LRCS['Comma gap (µm)'].unique())\n",
    "n_ML_LRCS = n_bins\n",
    "dom_CG_LRCS = [75,100,200]\n",
    "dom_ML_LRCS = np.arange(n_ML_LRCS)"
   ]
  },
  {
   "cell_type": "markdown",
   "id": "ca867d70",
   "metadata": {},
   "source": [
    "# Learning before abstraction"
   ]
  },
  {
   "cell_type": "code",
   "execution_count": 6,
   "id": "329d7435",
   "metadata": {},
   "outputs": [],
   "source": [
    "def eval_metric(model,Xte,yte,Xout,roundpred=True):\n",
    "    if roundpred:\n",
    "        preds = np.round(model.predict(Xte.reshape(-1,1)))\n",
    "    else:\n",
    "        preds = model.predict(Xte.reshape(-1,1))\n",
    "    mses = (preds - yte)**2\n",
    "    print('MSE (with {0} out): {1} ({2})'.format(Xout,np.mean(mses),np.std(mses)))\n",
    "    print('${0:.2f}\\pm{1:.2f}$'.format(np.mean(mses),np.std(mses)))\n",
    "    \n",
    "    return np.mean(mses)"
   ]
  },
  {
   "cell_type": "markdown",
   "id": "b7896c69",
   "metadata": {},
   "source": [
    "## Learning on LRCS data: one-X out"
   ]
  },
  {
   "cell_type": "code",
   "execution_count": 7,
   "id": "6076cc1d",
   "metadata": {},
   "outputs": [],
   "source": [
    "def select_one_X_out(X,y,cond):\n",
    "    Xte = np.array(X[cond])\n",
    "    yte = np.array(y[cond])\n",
    "\n",
    "    Xtr = np.array(X[np.logical_not(cond)])\n",
    "    ytr = np.array(y[np.logical_not(cond)])\n",
    "    \n",
    "    return Xtr,ytr,Xte,yte"
   ]
  },
  {
   "cell_type": "markdown",
   "id": "d0ac26fd",
   "metadata": {},
   "source": [
    "### Lasso"
   ]
  },
  {
   "cell_type": "code",
   "execution_count": 8,
   "id": "724ac200",
   "metadata": {},
   "outputs": [
    {
     "name": "stdout",
     "output_type": "stream",
     "text": [
      "MSE (with 75 out): 1.375 (0.9921567416492215)\n",
      "$1.38\\pm0.99$\n",
      "MSE (with 100 out): 0.0 (0.0)\n",
      "$0.00\\pm0.00$\n",
      "MSE (with 200 out): 4.208333333333333 (0.9991315673568165)\n",
      "$4.21\\pm1.00$\n",
      "Overall MSE: 1.861111111111111 (1.7520931045220114)\n",
      "$1.86\\pm1.75$\n"
     ]
    }
   ],
   "source": [
    "scores_a = []\n",
    "\n",
    "for cg in dom_CG_LRCS:\n",
    "    cond = df_LRCS['Comma gap (µm)']==cg\n",
    "    \n",
    "    Xtr,ytr,Xte,yte = select_one_X_out(df_LRCS['Comma gap (µm)'],df_LRCS['binned ML'],cond)\n",
    "    \n",
    "    model = Lasso().fit(Xtr.reshape(-1,1),ytr)\n",
    "    score = eval_metric(model,Xte,yte,cg,True)\n",
    "    scores_a.append(score)\n",
    "    \n",
    "print('Overall MSE: {0} ({1})'.format(np.mean(scores_a),np.std(scores_a)))\n",
    "print('${0:.2f}\\pm{1:.2f}$'.format(np.mean(scores_a),np.std(scores_a)))"
   ]
  },
  {
   "cell_type": "markdown",
   "id": "27cd40f2",
   "metadata": {},
   "source": [
    "# Learning after abstraction"
   ]
  },
  {
   "cell_type": "markdown",
   "id": "d252e3e1",
   "metadata": {},
   "source": [
    "## Learning on LRCS+WMG data: one-X out with WMG providing the missing support"
   ]
  },
  {
   "cell_type": "markdown",
   "id": "925ae810",
   "metadata": {},
   "source": [
    "### Lasso"
   ]
  },
  {
   "cell_type": "code",
   "execution_count": 9,
   "id": "60e18685",
   "metadata": {},
   "outputs": [
    {
     "name": "stdout",
     "output_type": "stream",
     "text": [
      "MSE (with 75 out): 0.5781093959085035 (0.7008871711757073)\n",
      "$0.58\\pm0.70$\n",
      "MSE (with 100 out): 0.0004050509189137569 (0.0)\n",
      "$0.00\\pm0.00$\n",
      "MSE (with 200 out): 0.06668892415658287 (0.24854923900700404)\n",
      "$0.07\\pm0.25$\n",
      "Overall MSE: 0.21506779032800005 (0.25813148264621427)\n",
      "$0.22\\pm0.26$\n"
     ]
    }
   ],
   "source": [
    "scores_b = []\n",
    "\n",
    "for cg in dom_CG_LRCS:\n",
    "    cond0 = df_LRCS['Comma gap (µm)']==cg\n",
    "    cond1 = list(cond0) + [False]*(len(df_LRCSWMG)-len(cond0))\n",
    "    \n",
    "    Xtr,ytr,Xte,yte = select_one_X_out(df_LRCSWMG['Comma gap (µm)'],df_LRCSWMG['binned ML'],cond1)\n",
    "    \n",
    "    model = Lasso().fit(Xtr.reshape(-1,1),ytr)\n",
    "    score = eval_metric(model,Xte,yte,cg,False)\n",
    "    scores_b.append(score)\n",
    "    \n",
    "print('Overall MSE: {0} ({1})'.format(np.mean(scores_b),np.std(scores_b)))\n",
    "print('${0:.2f}\\pm{1:.2f}$'.format(np.mean(scores_b),np.std(scores_b)))"
   ]
  },
  {
   "cell_type": "markdown",
   "id": "016f8032",
   "metadata": {},
   "source": [
    "## Learning on LRCS+WMG data: one X-out with WMG not providing the missing support"
   ]
  },
  {
   "cell_type": "markdown",
   "id": "7b1ee5bd",
   "metadata": {},
   "source": [
    "### Lasso"
   ]
  },
  {
   "cell_type": "code",
   "execution_count": 10,
   "id": "cf5509ac",
   "metadata": {},
   "outputs": [
    {
     "name": "stdout",
     "output_type": "stream",
     "text": [
      "MSE (with 75 out): 0.5607826658850772 (0.38584886995658146)\n",
      "$0.56\\pm0.39$\n",
      "MSE (with 100 out): 0.5512486399325527 (1.405299836257161)\n",
      "$0.55\\pm1.41$\n",
      "MSE (with 200 out): 2.5626978817343646 (0.6969472297309359)\n",
      "$2.56\\pm0.70$\n",
      "Overall MSE: 1.224909729183998 (0.9459670819645568)\n",
      "$1.22\\pm0.95$\n"
     ]
    }
   ],
   "source": [
    "scores_c = []\n",
    "\n",
    "for cg in dom_CG_LRCS:\n",
    "    cond = df_LRCSWMG['Comma gap (µm)']==cg\n",
    "    \n",
    "    Xtr,ytr,Xte,yte = select_one_X_out(df_LRCSWMG['Comma gap (µm)'],df_LRCSWMG['binned ML'],cond)\n",
    "    \n",
    "    model = Lasso().fit(Xtr.reshape(-1,1),ytr)\n",
    "    score = eval_metric(model,Xte,yte,cg,False)\n",
    "    scores_c.append(score)\n",
    "    \n",
    "print('Overall MSE: {0} ({1})'.format(np.mean(scores_c),np.std(scores_c)))\n",
    "print('${0:.2f}\\pm{1:.2f}$'.format(np.mean(scores_c),np.std(scores_c)))"
   ]
  },
  {
   "cell_type": "code",
   "execution_count": null,
   "id": "34c6d465",
   "metadata": {},
   "outputs": [],
   "source": []
  }
 ],
 "metadata": {
  "kernelspec": {
   "display_name": "Python 3 (ipykernel)",
   "language": "python",
   "name": "python3"
  },
  "language_info": {
   "codemirror_mode": {
    "name": "ipython",
    "version": 3
   },
   "file_extension": ".py",
   "mimetype": "text/x-python",
   "name": "python",
   "nbconvert_exporter": "python",
   "pygments_lexer": "ipython3",
   "version": "3.9.10"
  },
  "toc": {
   "base_numbering": 1,
   "nav_menu": {},
   "number_sections": true,
   "sideBar": true,
   "skip_h1_title": false,
   "title_cell": "Table of Contents",
   "title_sidebar": "Contents",
   "toc_cell": false,
   "toc_position": {
    "height": "calc(100% - 180px)",
    "left": "10px",
    "top": "150px",
    "width": "367.912px"
   },
   "toc_section_display": true,
   "toc_window_display": true
  }
 },
 "nbformat": 4,
 "nbformat_minor": 5
}
