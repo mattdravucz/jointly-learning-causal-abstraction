{
 "cells": [
  {
   "cell_type": "code",
   "execution_count": 1,
   "id": "11ada834",
   "metadata": {},
   "outputs": [],
   "source": [
    "import time\n",
    "import numpy as np\n",
    "import torch\n",
    "\n",
    "import src.utils as ut\n",
    "from src.SCMMappings_1_1 import Abstraction\n",
    "from src.printing import AbstractionPrinter\n",
    "\n",
    "import matplotlib.pyplot as plt\n",
    "from pgmpy.models import BayesianNetwork as BN\n",
    "from pgmpy.factors.discrete import TabularCPD as cpd"
   ]
  },
  {
   "cell_type": "code",
   "execution_count": 2,
   "id": "255ea3bb",
   "metadata": {},
   "outputs": [
    {
     "data": {
      "text/plain": [
       "<torch._C.Generator at 0x1244fdc70>"
      ]
     },
     "execution_count": 2,
     "metadata": {},
     "output_type": "execute_result"
    }
   ],
   "source": [
    "seed = 0\n",
    "np.random.seed(seed)  # Numpy module\n",
    "torch.manual_seed(seed)"
   ]
  },
  {
   "cell_type": "code",
   "execution_count": 3,
   "id": "7102e226",
   "metadata": {},
   "outputs": [],
   "source": [
    "from src.examples import smokingmodels as ex"
   ]
  },
  {
   "cell_type": "code",
   "execution_count": 4,
   "id": "09c0830f",
   "metadata": {},
   "outputs": [],
   "source": [
    "A_vstruct = Abstraction(*ex.vstruct_lung_cancer())\n"
   ]
  },
  {
   "cell_type": "code",
   "execution_count": 5,
   "id": "0ed99607",
   "metadata": {},
   "outputs": [],
   "source": [
    "import src.evaluationsets as es\n",
    "import src.learning as lng"
   ]
  },
  {
   "cell_type": "code",
   "execution_count": 6,
   "id": "4114e6ac",
   "metadata": {},
   "outputs": [],
   "source": [
    "freq_interv_vstruct = np.array([2.4,.3,.3])\n",
    "J_vstruct = [[['Smoking_'], ['Cancer_']],\n",
    " [['Smoking_'], ['Fatigue_']],\n",
    " [['Cancer_'], ['Fatigue_']]]"
   ]
  },
  {
   "cell_type": "code",
   "execution_count": 7,
   "id": "c9d98565",
   "metadata": {},
   "outputs": [],
   "source": [
    "from src.nn import JointNeuralNet\n",
    "from src.nn_losses import JSD_loss,RowMax_penalty"
   ]
  },
  {
   "cell_type": "code",
   "execution_count": 8,
   "id": "1c6ba373",
   "metadata": {},
   "outputs": [],
   "source": [
    "def calc_distance(Ws, alpha_index, alphas):\n",
    "    distance = 0.0\n",
    "    for key, value in alphas.items():\n",
    "        distance += torch.sum(torch.abs(torch.from_numpy(value)-Ws[alpha_index[key]]))\n",
    "    return distance"
   ]
  },
  {
   "cell_type": "code",
   "execution_count": 9,
   "id": "50105a07",
   "metadata": {},
   "outputs": [],
   "source": [
    "def train_a_JointNN_model(M0,M1,R,a,alphas,J,weighted,T,lmbda,num_epochs,lr):\n",
    "    distances = np.zeros((num_epochs))\n",
    "    jsds = np.zeros((num_epochs))\n",
    "    pens = np.zeros((num_epochs))\n",
    "    end_results = {}\n",
    "    \n",
    "    \n",
    "    model = JointNeuralNet(M0,M1,R,a,J,T)\n",
    "    optimizer = torch.optim.Adam(model.parameters(), lr=lr)\n",
    "    criterion_jsd = JSD_loss()\n",
    "    criterion_pen = RowMax_penalty()\n",
    "    \n",
    "    \n",
    "    for epoch in range(num_epochs):\n",
    "        lowpaths, highpaths, Ws = model()    \n",
    "        loss_jsd = criterion_jsd(lowpaths, highpaths, weighted)\n",
    "        loss_pen = criterion_pen(Ws)\n",
    "        loss = lmbda*loss_jsd + loss_pen\n",
    "        \n",
    "        distances[epoch] = calc_distance(Ws, model.alpha_index, alphas)\n",
    "        jsds[epoch] = loss_jsd\n",
    "        pens[epoch] = loss_pen\n",
    "\n",
    "        optimizer.zero_grad()\n",
    "        loss.backward()\n",
    "        optimizer.step()\n",
    "        if (epoch+1) % 500 == 0:\n",
    "            print ('Epoch [{}/{}], Loss: {:.4f}, JSD: {:.4f}, Penalty: {:.4f}'.format(epoch+1, num_epochs, loss, loss_jsd, loss_pen))\n",
    "    \n",
    "    learnt_alphas = {}\n",
    "    for name in model.alphas_to_learn:\n",
    "        learnt_alphas[name] = model.get_Wmatrix_by_name(name).detach()\n",
    "        \n",
    "    # discretize alphas and calc_distance\n",
    "    discretized_alphas = {}\n",
    "    for name, value in learnt_alphas.items():\n",
    "        tmp = torch.zeros((value.shape))\n",
    "        for i in range(value.shape[1]):\n",
    "            tmp[torch.argmax(value[:,i]),i] = 1\n",
    "        discretized_alphas[name] = tmp\n",
    "    \n",
    "    #calculate distance with discrete learnt alphas\n",
    "    end_distance = 0.0\n",
    "    for key, value in alphas.items():\n",
    "        end_distance += torch.sum(torch.abs(torch.from_numpy(alphas[key])-discretized_alphas[key]))\n",
    "    \n",
    "    # jsd and penalty with initalised discrete alphas\n",
    "    criterion_jsd = JSD_loss()\n",
    "    criterion_pen = RowMax_penalty()\n",
    "    end_model = JointNeuralNet(M0,M1,R,a,J,T,initialised_alphas=discretized_alphas)\n",
    "    lowpaths, highpaths, Ws = end_model()    \n",
    "    end_loss_jsd = criterion_jsd(lowpaths, highpaths)\n",
    "    end_loss_pen = criterion_pen(Ws)\n",
    "    \n",
    "    # store end results\n",
    "    end_results['normalised_alphas'] = learnt_alphas\n",
    "    end_results['discretized_alpha'] = discretized_alphas\n",
    "    end_results['jsd'] = end_loss_jsd\n",
    "    end_results['penalty'] = end_loss_pen\n",
    "    end_results['distance'] = end_distance\n",
    "    \n",
    "    return distances/len(alphas), jsds/len(J), pens/len(alphas), end_results"
   ]
  },
  {
   "cell_type": "code",
   "execution_count": 10,
   "id": "deba0424",
   "metadata": {},
   "outputs": [],
   "source": [
    "lr = 0.01\n",
    "num_epochs = 500\n",
    "T = 0.1\n",
    "lmbda=10.0\n",
    "n_fold = 10\n",
    "k_fold = 10"
   ]
  },
  {
   "cell_type": "code",
   "execution_count": 11,
   "id": "0992b778",
   "metadata": {},
   "outputs": [
    {
     "name": "stdout",
     "output_type": "stream",
     "text": [
      "n fold 1:\n",
      "Epoch [500/500], Loss: 1.9214, JSD: 0.0077, Penalty: 1.8445\n",
      "Epoch [500/500], Loss: 1.3477, JSD: 0.0502, Penalty: 0.8453\n",
      "Epoch [500/500], Loss: 1.9354, JSD: 0.0099, Penalty: 1.8367\n",
      "Epoch [500/500], Loss: 2.4642, JSD: 0.1123, Penalty: 1.3408\n",
      "Epoch [500/500], Loss: 1.0400, JSD: 0.0063, Penalty: 0.9775\n",
      "Epoch [500/500], Loss: 1.2891, JSD: 0.0426, Penalty: 0.8627\n",
      "Epoch [500/500], Loss: 2.2768, JSD: 0.0952, Penalty: 1.3252\n",
      "Epoch [500/500], Loss: 1.1906, JSD: 0.0339, Penalty: 0.8516\n",
      "Epoch [500/500], Loss: 1.0261, JSD: 0.0039, Penalty: 0.9867\n",
      "Epoch [500/500], Loss: 0.8263, JSD: 0.0055, Penalty: 0.7716\n",
      "n fold 2:\n",
      "Epoch [500/500], Loss: 1.4014, JSD: 0.0335, Penalty: 1.0666\n",
      "Epoch [500/500], Loss: 1.3233, JSD: 0.0107, Penalty: 1.2163\n",
      "Epoch [500/500], Loss: 1.1936, JSD: 0.0060, Penalty: 1.1336\n",
      "Epoch [500/500], Loss: 1.3510, JSD: 0.0587, Penalty: 0.7637\n",
      "Epoch [500/500], Loss: 1.2703, JSD: 0.0045, Penalty: 1.2252\n",
      "Epoch [500/500], Loss: 1.3839, JSD: 0.0411, Penalty: 0.9728\n",
      "Epoch [500/500], Loss: 1.3426, JSD: 0.0071, Penalty: 1.2713\n",
      "Epoch [500/500], Loss: 0.8917, JSD: 0.0154, Penalty: 0.7380\n",
      "Epoch [500/500], Loss: 0.9114, JSD: 0.0169, Penalty: 0.7427\n",
      "Epoch [500/500], Loss: 1.4191, JSD: 0.0125, Penalty: 1.2945\n",
      "n fold 3:\n",
      "Epoch [500/500], Loss: 1.5109, JSD: 0.0252, Penalty: 1.2586\n",
      "Epoch [500/500], Loss: 1.3173, JSD: 0.0482, Penalty: 0.8349\n",
      "Epoch [500/500], Loss: 2.6417, JSD: 0.0183, Penalty: 2.4583\n",
      "Epoch [500/500], Loss: 0.7983, JSD: 0.0034, Penalty: 0.7643\n",
      "Epoch [500/500], Loss: 0.9822, JSD: 0.0223, Penalty: 0.7594\n",
      "Epoch [500/500], Loss: 1.0315, JSD: 0.0277, Penalty: 0.7546\n",
      "Epoch [500/500], Loss: 1.1963, JSD: 0.0244, Penalty: 0.9519\n",
      "Epoch [500/500], Loss: 1.7118, JSD: 0.0367, Penalty: 1.3451\n",
      "Epoch [500/500], Loss: 0.7977, JSD: 0.0036, Penalty: 0.7616\n",
      "Epoch [500/500], Loss: 1.1368, JSD: 0.0180, Penalty: 0.9573\n",
      "n fold 4:\n",
      "Epoch [500/500], Loss: 1.3157, JSD: 0.0086, Penalty: 1.2296\n",
      "Epoch [500/500], Loss: 4.9591, JSD: 0.3852, Penalty: 1.1070\n",
      "Epoch [500/500], Loss: 1.0737, JSD: 0.0241, Penalty: 0.8323\n",
      "Epoch [500/500], Loss: 1.8637, JSD: 0.0081, Penalty: 1.7828\n",
      "Epoch [500/500], Loss: 2.5111, JSD: 0.0174, Penalty: 2.3370\n",
      "Epoch [500/500], Loss: 1.0630, JSD: 0.0235, Penalty: 0.8285\n",
      "Epoch [500/500], Loss: 1.8637, JSD: 0.0228, Penalty: 1.6354\n",
      "Epoch [500/500], Loss: 0.8082, JSD: 0.0054, Penalty: 0.7545\n",
      "Epoch [500/500], Loss: 1.0621, JSD: 0.0115, Penalty: 0.9467\n",
      "Epoch [500/500], Loss: 0.7760, JSD: 0.0014, Penalty: 0.7617\n",
      "n fold 5:\n",
      "Epoch [500/500], Loss: 1.2047, JSD: 0.0079, Penalty: 1.1254\n",
      "Epoch [500/500], Loss: 1.1593, JSD: 0.0032, Penalty: 1.1272\n",
      "Epoch [500/500], Loss: 0.8560, JSD: 0.0079, Penalty: 0.7766\n",
      "Epoch [500/500], Loss: 0.9859, JSD: 0.0177, Penalty: 0.8093\n",
      "Epoch [500/500], Loss: 1.1163, JSD: 0.0232, Penalty: 0.8841\n",
      "Epoch [500/500], Loss: 1.8005, JSD: 0.0371, Penalty: 1.4291\n",
      "Epoch [500/500], Loss: 1.9670, JSD: 0.0127, Penalty: 1.8398\n",
      "Epoch [500/500], Loss: 4.9629, JSD: 0.3849, Penalty: 1.1135\n",
      "Epoch [500/500], Loss: 2.0005, JSD: 0.1153, Penalty: 0.8478\n",
      "Epoch [500/500], Loss: 1.1810, JSD: 0.0353, Penalty: 0.8277\n",
      "n fold 6:\n",
      "Epoch [500/500], Loss: 1.0396, JSD: 0.0030, Penalty: 1.0094\n",
      "Epoch [500/500], Loss: 1.3335, JSD: 0.0107, Penalty: 1.2261\n",
      "Epoch [500/500], Loss: 1.0756, JSD: 0.0241, Penalty: 0.8348\n",
      "Epoch [500/500], Loss: 1.3489, JSD: 0.0099, Penalty: 1.2503\n",
      "Epoch [500/500], Loss: 1.0528, JSD: 0.0068, Penalty: 0.9851\n",
      "Epoch [500/500], Loss: 1.5048, JSD: 0.0674, Penalty: 0.8310\n",
      "Epoch [500/500], Loss: 1.2292, JSD: 0.0385, Penalty: 0.8445\n",
      "Epoch [500/500], Loss: 1.3166, JSD: 0.0474, Penalty: 0.8422\n",
      "Epoch [500/500], Loss: 1.3944, JSD: 0.0099, Penalty: 1.2952\n",
      "Epoch [500/500], Loss: 1.1497, JSD: 0.0336, Penalty: 0.8138\n",
      "n fold 7:\n",
      "Epoch [500/500], Loss: 1.5863, JSD: 0.0719, Penalty: 0.8675\n",
      "Epoch [500/500], Loss: 0.8350, JSD: 0.0067, Penalty: 0.7682\n",
      "Epoch [500/500], Loss: 0.8271, JSD: 0.0075, Penalty: 0.7524\n",
      "Epoch [500/500], Loss: 1.3945, JSD: 0.0557, Penalty: 0.8373\n",
      "Epoch [500/500], Loss: 1.0149, JSD: 0.0020, Penalty: 0.9949\n",
      "Epoch [500/500], Loss: 0.7869, JSD: 0.0030, Penalty: 0.7571\n",
      "Epoch [500/500], Loss: 1.9573, JSD: 0.0080, Penalty: 1.8774\n",
      "Epoch [500/500], Loss: 1.4074, JSD: 0.0158, Penalty: 1.2494\n",
      "Epoch [500/500], Loss: 1.1572, JSD: 0.0021, Penalty: 1.1366\n",
      "Epoch [500/500], Loss: 0.8430, JSD: 0.0084, Penalty: 0.7587\n",
      "n fold 8:\n",
      "Epoch [500/500], Loss: 1.3408, JSD: 0.0241, Penalty: 1.0994\n",
      "Epoch [500/500], Loss: 1.1995, JSD: 0.0356, Penalty: 0.8433\n",
      "Epoch [500/500], Loss: 1.3163, JSD: 0.0110, Penalty: 1.2064\n",
      "Epoch [500/500], Loss: 1.2483, JSD: 0.0147, Penalty: 1.1010\n",
      "Epoch [500/500], Loss: 0.8632, JSD: 0.0118, Penalty: 0.7449\n",
      "Epoch [500/500], Loss: 1.1959, JSD: 0.0355, Penalty: 0.8404\n",
      "Epoch [500/500], Loss: 1.1086, JSD: 0.0270, Penalty: 0.8386\n",
      "Epoch [500/500], Loss: 1.3038, JSD: 0.0458, Penalty: 0.8458\n",
      "Epoch [500/500], Loss: 1.4191, JSD: 0.0162, Penalty: 1.2575\n",
      "Epoch [500/500], Loss: 2.0155, JSD: 0.0129, Penalty: 1.8862\n",
      "n fold 9:\n",
      "Epoch [500/500], Loss: 1.4712, JSD: 0.0702, Penalty: 0.7688\n",
      "Epoch [500/500], Loss: 1.5033, JSD: 0.0736, Penalty: 0.7670\n",
      "Epoch [500/500], Loss: 1.1784, JSD: 0.0341, Penalty: 0.8372\n",
      "Epoch [500/500], Loss: 1.3927, JSD: 0.0137, Penalty: 1.2557\n",
      "Epoch [500/500], Loss: 2.0754, JSD: 0.0082, Penalty: 1.9930\n",
      "Epoch [500/500], Loss: 0.9561, JSD: 0.0208, Penalty: 0.7480\n",
      "Epoch [500/500], Loss: 1.3352, JSD: 0.0100, Penalty: 1.2348\n",
      "Epoch [500/500], Loss: 1.3256, JSD: 0.0164, Penalty: 1.1617\n",
      "Epoch [500/500], Loss: 1.9122, JSD: 0.1152, Penalty: 0.7601\n",
      "Epoch [500/500], Loss: 0.8650, JSD: 0.0088, Penalty: 0.7772\n",
      "n fold 10:\n",
      "Epoch [500/500], Loss: 1.4020, JSD: 0.0557, Penalty: 0.8447\n",
      "Epoch [500/500], Loss: 1.1701, JSD: 0.0038, Penalty: 1.1320\n",
      "Epoch [500/500], Loss: 1.3936, JSD: 0.0161, Penalty: 1.2321\n",
      "Epoch [500/500], Loss: 1.1116, JSD: 0.0260, Penalty: 0.8518\n",
      "Epoch [500/500], Loss: 0.8402, JSD: 0.0080, Penalty: 0.7601\n",
      "Epoch [500/500], Loss: 1.0304, JSD: 0.0019, Penalty: 1.0117\n",
      "Epoch [500/500], Loss: 2.3849, JSD: 0.0131, Penalty: 2.2539\n",
      "Epoch [500/500], Loss: 1.1917, JSD: 0.0061, Penalty: 1.1308\n",
      "Epoch [500/500], Loss: 1.2688, JSD: 0.0050, Penalty: 1.2185\n",
      "Epoch [500/500], Loss: 0.8412, JSD: 0.0068, Penalty: 0.7727\n"
     ]
    }
   ],
   "source": [
    "\n",
    "n_best_distance4 = np.zeros((n_fold,num_epochs))\n",
    "n_best_jsd4 = np.zeros((n_fold,num_epochs))\n",
    "n_best_pen4 = np.zeros((n_fold,num_epochs))\n",
    "n_best_end_results4 = []\n",
    "n_time4 = np.zeros((n_fold))\n",
    "\n",
    "\n",
    "for n in range(n_fold):\n",
    "    print(f\"n fold {n+1}:\")\n",
    "\n",
    "    k_distances4 = np.zeros((k_fold,num_epochs))\n",
    "    k_jsds4 = np.zeros((k_fold,num_epochs))\n",
    "    k_pens4 = np.zeros((k_fold,num_epochs))\n",
    "    k_end_results4 = []\n",
    "    k_time4 = np.zeros((k_fold))\n",
    "    \n",
    "    for fold in range(k_fold):\n",
    "        \n",
    "        st = time.time()\n",
    "        distances_epoch4, jsds4, pens4, end_results4 = train_a_JointNN_model(A_vstruct.M0, A_vstruct.M1, A_vstruct.R, A_vstruct.a, A_vstruct.alphas, J_vstruct,\n",
    "                     weighted=freq_interv_vstruct, T=T, lmbda=lmbda, num_epochs=num_epochs, lr=lr)\n",
    "        et = time.time()\n",
    "        time4 = et - st\n",
    "        \n",
    "        k_distances4[fold] = distances_epoch4\n",
    "        k_jsds4[fold] = jsds4\n",
    "        k_pens4[fold] = pens4\n",
    "        k_end_results4.append(end_results4)\n",
    "        k_time4[fold] = time4\n",
    "        \n",
    "    k_losses4 = k_jsds4+k_pens4\n",
    "    best4 = np.argmin(k_losses4[:,-1])\n",
    "    \n",
    "    n_best_distance4[n] = k_distances4[best4]\n",
    "    n_best_jsd4[n] = k_jsds4[best4]\n",
    "    n_best_pen4[n] = k_pens4[best4]\n",
    "    n_best_end_results4.append(k_end_results4[best4])\n",
    "    n_time4[n] = k_time4[best4]\n",
    "        \n",
    "        "
   ]
  },
  {
   "cell_type": "code",
   "execution_count": 12,
   "id": "6248ad4f",
   "metadata": {},
   "outputs": [
    {
     "name": "stdout",
     "output_type": "stream",
     "text": [
      "Vstruct: Avg Alpha distance: 1.305538781483968\n",
      "Vstruct: Avg JSD: 0.003982562928770979\n",
      "Vstruct: Avg Penalty: 0.25405189792315164\n",
      "Vstruct: Avg Time: 0.5465210914611817\n",
      "Vstruct: Avg Alpha distance SD: 0.5356910009961974\n",
      "Vstruct: Avg JSD SD: 0.0029154619816588972\n",
      "Vstruct: Avg Penalty SD: 0.006837770238928254\n",
      "Vstruct: Avg Time SD: 0.014301843927372108\n"
     ]
    }
   ],
   "source": [
    "\n",
    "avg_dis4 = np.mean(n_best_distance4,axis=0)\n",
    "avg_dis_err4 = np.std(n_best_distance4,axis=0)\n",
    "\n",
    "avg_jsd4 = np.mean(n_best_jsd4,axis=0)\n",
    "avg_jsd_err4 = np.std(n_best_jsd4,axis=0)\n",
    "\n",
    "avg_pen4 = np.mean(n_best_pen4,axis=0)\n",
    "avg_pen_err4 = np.std(n_best_pen4,axis=0)\n",
    "\n",
    "avg_time4 = np.mean(n_time4,axis=0)\n",
    "avg_time_err4 = np.std(n_time4,axis=0)\n",
    "\n",
    "print(f\"Vstruct: Avg Alpha distance: {avg_dis4[-1]}\")\n",
    "print(f\"Vstruct: Avg JSD: {avg_jsd4[-1]}\")\n",
    "print(f\"Vstruct: Avg Penalty: {avg_pen4[-1]}\")\n",
    "print(f\"Vstruct: Avg Time: {avg_time4}\")\n",
    "print(f\"Vstruct: Avg Alpha distance SD: {avg_dis_err4[-1]}\")\n",
    "print(f\"Vstruct: Avg JSD SD: {avg_jsd_err4[-1]}\")\n",
    "print(f\"Vstruct: Avg Penalty SD: {avg_pen_err4[-1]}\")\n",
    "print(f\"Vstruct: Avg Time SD: {avg_time_err4}\")"
   ]
  },
  {
   "cell_type": "code",
   "execution_count": 13,
   "id": "603ebb91",
   "metadata": {},
   "outputs": [
    {
     "name": "stderr",
     "output_type": "stream",
     "text": [
      "No artists with labels found to put in legend.  Note that artists whose label start with an underscore are ignored when legend() is called with no argument.\n",
      "No artists with labels found to put in legend.  Note that artists whose label start with an underscore are ignored when legend() is called with no argument.\n",
      "No artists with labels found to put in legend.  Note that artists whose label start with an underscore are ignored when legend() is called with no argument.\n"
     ]
    },
    {
     "data": {
      "image/png": "[encoded data removed]",
      "text/plain": [
       "<Figure size 1296x864 with 3 Axes>"
      ]
     },
     "metadata": {
      "needs_background": "light"
     },
     "output_type": "display_data"
    }
   ],
   "source": [
    "\n",
    "fig, ((ax0, ax1, ax2)) = plt.subplots(nrows=1, ncols=3, sharex=True,\n",
    "                                    figsize=(18, 12))\n",
    "time_epoch = np.array([i+1 for i in range(num_epochs)])\n",
    "ax0.set_title('Vstruct: Ground truth distance')\n",
    "ax0.plot(time_epoch, avg_dis4)\n",
    "ax0.set_ylim([0,10])\n",
    "ax0.legend()\n",
    "\n",
    "ax1.set_title('Vstruct: JSD loss')\n",
    "ax1.plot(time_epoch, avg_jsd4)\n",
    "ax1.set_ylim([0,1])\n",
    "ax1.legend()\n",
    "\n",
    "ax2.set_title('Vstruct: Penalty loss')\n",
    "ax2.plot(time_epoch, avg_pen4)\n",
    "ax2.set_ylim([0,1])\n",
    "ax2.legend()\n",
    "\n",
    "fig.suptitle('Simulation Results:')\n",
    "plt.show()"
   ]
  },
  {
   "cell_type": "code",
   "execution_count": 14,
   "id": "5dedfea8",
   "metadata": {},
   "outputs": [],
   "source": [
    "# Save results\n",
    "np.save('./results/synthetic/b/avg-best-distance-app3-weighted-vstruct', n_best_distance4)\n",
    "np.save('./results/synthetic/b/avg-best-JSD-app3-weighted-vstruct', n_best_jsd4)\n",
    "np.save('./results/synthetic/b/avg-best-penalty-weighted-app3-vstruct', n_best_pen4)\n",
    "np.save('./results/synthetic/b/avg-best-time-app3-weighted-vstruct', n_time4)\n",
    "np.save('./results/synthetic/b/avg-best-endresults-app3-weighted-vstruct', n_best_end_results4)"
   ]
  },
  {
   "cell_type": "code",
   "execution_count": null,
   "id": "35a1faf1",
   "metadata": {},
   "outputs": [],
   "source": []
  }
 ],
 "metadata": {
  "kernelspec": {
   "display_name": "Python 3 (ipykernel)",
   "language": "python",
   "name": "python3"
  },
  "language_info": {
   "codemirror_mode": {
    "name": "ipython",
    "version": 3
   },
   "file_extension": ".py",
   "mimetype": "text/x-python",
   "name": "python",
   "nbconvert_exporter": "python",
   "pygments_lexer": "ipython3",
   "version": "3.9.7"
  },
  "toc": {
   "base_numbering": 1,
   "nav_menu": {},
   "number_sections": true,
   "sideBar": true,
   "skip_h1_title": false,
   "title_cell": "Table of Contents",
   "title_sidebar": "Contents",
   "toc_cell": false,
   "toc_position": {},
   "toc_section_display": true,
   "toc_window_display": false
  }
 },
 "nbformat": 4,
 "nbformat_minor": 5
}
